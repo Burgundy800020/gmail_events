{
 "cells": [
  {
   "cell_type": "code",
   "id": "initial_id",
   "metadata": {
    "collapsed": true,
    "ExecuteTime": {
     "end_time": "2025-05-03T18:42:34.385538Z",
     "start_time": "2025-05-03T18:42:34.290504Z"
    }
   },
   "source": [
    "from google_auth_oauthlib.flow import InstalledAppFlow\n",
    "from googleapiclient.discovery import build\n",
    "import pickle\n",
    "import os\n",
    "\n",
    "# If modifying SCOPES, delete the token.pickle file\n",
    "SCOPES = ['https://www.googleapis.com/auth/gmail.readonly']\n"
   ],
   "outputs": [],
   "execution_count": 1
  },
  {
   "metadata": {},
   "cell_type": "code",
   "outputs": [],
   "execution_count": null,
   "source": [
    "#google cloud project\n",
    "#Oauth client, get secret file\n",
    "#client: from secret file, generate token"
   ],
   "id": "2b2f9ae50cf95f78"
  },
  {
   "metadata": {
    "ExecuteTime": {
     "end_time": "2025-05-03T18:47:26.256995Z",
     "start_time": "2025-05-03T18:42:40.773580Z"
    }
   },
   "cell_type": "code",
   "source": [
    "\n",
    "flow = InstalledAppFlow.from_client_secrets_file(\n",
    "    'secrets/credentials.json', SCOPES)\n",
    "creds = flow.run_local_server(port=0)\n"
   ],
   "id": "7a4efd4dfea7b15e",
   "outputs": [
    {
     "name": "stdout",
     "output_type": "stream",
     "text": [
      "Please visit this URL to authorize this application: https://accounts.google.com/o/oauth2/auth?response_type=code&client_id=20825329160-t295tn79givfkk0n1fds5qj5c3ffrcar.apps.googleusercontent.com&redirect_uri=http%3A%2F%2Flocalhost%3A49569%2F&scope=https%3A%2F%2Fwww.googleapis.com%2Fauth%2Fgmail.readonly&state=uKkLPVkibydJmeOZdzqXPxCjqboBXY&access_type=offline\n"
     ]
    }
   ],
   "execution_count": 2
  },
  {
   "metadata": {
    "ExecuteTime": {
     "end_time": "2025-05-03T18:47:54.593480Z",
     "start_time": "2025-05-03T18:47:54.590754Z"
    }
   },
   "cell_type": "code",
   "source": [
    "with open('secrets/token_jj.json', 'w') as token:\n",
    "    token.write(creds.to_json())\n"
   ],
   "id": "db67a4b13f8772ad",
   "outputs": [],
   "execution_count": 3
  },
  {
   "metadata": {
    "ExecuteTime": {
     "end_time": "2025-05-03T18:48:30.741232Z",
     "start_time": "2025-05-03T18:48:30.732825Z"
    }
   },
   "cell_type": "code",
   "source": [
    "from google.oauth2.credentials import Credentials\n",
    "from googleapiclient.discovery import build\n",
    "\n",
    "# Load the token_yz.json\n",
    "creds = Credentials.from_authorized_user_file('secrets/token_jj.json',\n",
    "                                              ['https://www.googleapis.com/auth/gmail.readonly'])\n",
    "\n",
    "# Build the Gmail service\n",
    "service = build('gmail', 'v1', credentials=creds)\n",
    "\n",
    "\n",
    "def get_latest_emails():\n",
    "    # List unread messages\n",
    "    results = service.users().messages().list(userId='me', labelIds=[], maxResults=5).execute()\n",
    "    message_ids = results.get('messages', [])\n",
    "\n",
    "    messages = []\n",
    "    if not message_ids:\n",
    "        return []\n",
    "\n",
    "    for message in message_ids:\n",
    "        msg = service.users().messages().get(userId='me', id=message['id']).execute()\n",
    "        messages.append(msg)\n",
    "\n",
    "        payload = msg['payload']\n",
    "        headers = payload['headers']\n",
    "\n",
    "        subject = \"\"\n",
    "        sender = \"\"\n",
    "        for header in headers:\n",
    "            if header['name'] == 'Subject':\n",
    "                subject = header['value']\n",
    "            if header['name'] == 'From':\n",
    "                sender = header['value']\n",
    "\n",
    "        snippet = msg.get('snippet')\n",
    "\n",
    "        print(f\"From: {sender}\")\n",
    "        print(f\"Subject: {subject}\")\n",
    "        print(f\"Snippet: {snippet}\")\n",
    "        print(\"-\" * 40)\n",
    "    return messages\n"
   ],
   "id": "aa66ffb7c935aaa4",
   "outputs": [],
   "execution_count": 4
  },
  {
   "metadata": {
    "ExecuteTime": {
     "end_time": "2025-05-03T18:48:32.764600Z",
     "start_time": "2025-05-03T18:48:32.342137Z"
    }
   },
   "cell_type": "code",
   "source": "messages = get_latest_emails()",
   "id": "4a0df0bd9873a843",
   "outputs": [
    {
     "name": "stdout",
     "output_type": "stream",
     "text": [
      "From: Google <no-reply@accounts.google.com>\n",
      "Subject: Security alert\n",
      "Snippet: gmail_events was granted access to your Google Account jiangjiang1510@gmail.com If you did not grant access, you should check this activity and secure your account. Check activity You can also see\n",
      "----------------------------------------\n",
      "From: Yizhou Wang <yizhou.wang.1218@gmail.com>\n",
      "Subject: Hello\n",
      "Snippet: Hello Jiang Jiang\n",
      "----------------------------------------\n"
     ]
    }
   ],
   "execution_count": 5
  },
  {
   "metadata": {
    "ExecuteTime": {
     "end_time": "2025-04-29T02:43:29.962567Z",
     "start_time": "2025-04-29T02:43:29.960409Z"
    }
   },
   "cell_type": "code",
   "source": [
    "import html\n",
    "for message in messages:\n",
    "    print(html.unescape(message['snippet']))"
   ],
   "id": "d723ad9eedca1e6b",
   "outputs": [
    {
     "name": "stdout",
     "output_type": "stream",
     "text": [
      "You have 10+ new invitations ͏ ͏ ͏ ͏ ͏ ͏ ͏ ͏ ͏ ͏ ͏ ͏ ͏ ͏ ͏ ͏ ͏ ͏ ͏ ͏ ͏ ͏ ͏ ͏ ͏ ͏ ͏ ͏ ͏ ͏ ͏ ͏ ͏ ͏ ͏ ͏ ͏ ͏ ͏ ͏ ͏ ͏ ͏ ͏ ͏ ͏ ͏ ͏ ͏ ͏ ͏ ͏ ͏ ͏ ͏ ͏ ͏ ͏ ͏ ͏ ͏ ͏ ͏ ͏ ͏ ͏ ͏ ͏ ͏ ͏ ͏ ͏ ͏ ͏ ͏ ͏ ͏ ͏ ͏ ͏ ͏ ͏ ͏ ͏ ͏ ͏\n",
      "Loblaw Companies Limited Caissier/caissière temps partiel après-midi: Come make your difference in communities across… ͏ ͏ ͏ ͏ ͏ ͏ ͏ ͏ ͏ ͏ ͏ ͏ ͏ ͏ ͏ ͏ ͏ ͏ ͏ ͏ ͏ ͏ ͏ ͏ ͏ ͏ ͏ ͏ ͏ ͏ ͏ ͏ ͏ ͏ ͏ ͏ ͏ ͏ ͏ ͏ ͏\n",
      "LM Studio is hiring ‌​‍‎‏﻿ ‌​‍‎‏﻿ ‌​‍‎‏﻿ ‌​‍‎‏﻿ ‌​‍‎‏﻿ ‌​‍‎‏﻿ ‌​‍‎‏﻿ ‌​‍‎‏﻿ ‌​‍‎‏﻿ ‌​‍‎‏﻿ ‌​‍‎‏﻿ ‌​‍‎‏﻿ ‌​‍‎‏﻿ ‌​‍‎‏﻿ ‌​‍‎‏﻿ ‌​‍‎‏﻿ ‌​‍‎‏﻿ ‌​‍‎‏﻿ ‌​‍‎‏﻿ ‌​‍‎‏﻿ ‌​‍‎‏﻿ ‌​‍‎‏﻿ ‌​‍‎‏﻿ ‌​‍‎‏﻿ ‌​‍‎‏﻿ ‌​‍‎‏﻿\n",
      "Zelle® payment of $7.00 to ARUSHI SINGH has been sent Sent from account ending in 4725 To 908-666-7791 View your balance Confirmation gj9geqyyr If you didn't make this payment, contact us Zelle®\n",
      "Save up to $40 on a $50+ order ͏ ͏ ͏ ͏ ͏ ͏ ͏ ͏ ͏ ͏ ͏ ͏ ͏ ͏ ͏ ͏ ͏ ͏ ͏ ͏ ͏ ͏ ͏ ͏ ͏ ͏ ͏ ͏ ͏ ͏ ͏ ͏ ͏ ͏ ͏ ͏ ͏ ͏ ͏ ͏ ͏ ͏ ͏ ͏ ͏ ͏ ͏ ͏ ͏ ͏ ͏ ͏ ͏ ͏ ͏ ͏ ͏ ͏ ͏ ͏ ͏ ͏ ͏ ͏ ͏ ͏ ͏ ͏ ͏ ͏ ͏ ͏ ͏ ͏ ͏ ͏ ͏ ͏ ͏ ͏ ͏ ͏ ͏ ͏ ͏\n"
     ]
    }
   ],
   "execution_count": 14
  },
  {
   "metadata": {
    "ExecuteTime": {
     "end_time": "2025-05-03T18:48:58.110970Z",
     "start_time": "2025-05-03T18:48:58.107125Z"
    }
   },
   "cell_type": "code",
   "source": [
    "import base64\n",
    "def decode_base64url(data):\n",
    "    # Base64url might miss padding, so fix it\n",
    "    missing_padding = len(data) % 4\n",
    "    if missing_padding:\n",
    "        data += '=' * (4 - missing_padding)\n",
    "\n",
    "    decoded_bytes = base64.urlsafe_b64decode(data)\n",
    "    return decoded_bytes.decode('utf-8')  # assume it's UTF-8 text inside\n",
    "\n",
    "#message: gmail users.messages.get response\n",
    "def unpack_gmail_message(message):\n",
    "    payload = message['payload']\n",
    "    #mime types: text/plain, text/html\n",
    "    if payload['mimeType'] == 'text/plain' and (res := payload['body'].get('data','')):\n",
    "        return res\n",
    "    if 'parts' not in payload: return ''\n",
    "    for part in payload['parts']:\n",
    "        if part['mimeType'] == 'text/plain' and (res := part['body'].get('data','')):\n",
    "            return res\n",
    "    return ''\n",
    "\n",
    "for message in messages:\n",
    "    # print(decode_base64url(message['payload']['body'].get('data','')))\n",
    "    print(decode_base64url(unpack_gmail_message(message)))\n",
    "\n"
   ],
   "id": "9bcb43975a8c689",
   "outputs": [
    {
     "name": "stdout",
     "output_type": "stream",
     "text": [
      "[image: Google]\r\n",
      "gmail_events was granted access to your Google Account\r\n",
      "\r\n",
      "\r\n",
      "jiangjiang1510@gmail.com\r\n",
      "\r\n",
      "If you did not grant access, you should check this activity and secure your\r\n",
      "account.\r\n",
      "Check activity\r\n",
      "<https://accounts.google.com/AccountChooser?Email=jiangjiang1510@gmail.com&continue=https://myaccount.google.com/alert/nt/1746298046000?rfn%3D127%26rfnc%3D1%26eid%3D-1365359470938102728%26et%3D0>\r\n",
      "You can also see security activity at\r\n",
      "https://myaccount.google.com/notifications\r\n",
      "You received this email to let you know about important changes to your\r\n",
      "Google Account and services.\r\n",
      "© 2025 Google LLC, 1600 Amphitheatre Parkway, Mountain View, CA 94043, USA\r\n",
      "\n",
      "Hello Jiang Jiang\r\n",
      "\n"
     ]
    }
   ],
   "execution_count": 6
  },
  {
   "metadata": {
    "ExecuteTime": {
     "end_time": "2025-05-03T18:55:06.105575Z",
     "start_time": "2025-05-03T18:55:05.934394Z"
    }
   },
   "cell_type": "code",
   "source": [
    "from openai import OpenAI\n",
    "import os\n",
    "\n",
    "# TODO: Put your API key here\n",
    "client = OpenAI(api_key=os.environ['OPEN_AI'], base_url=\"https://cmu.litellm.ai\")\n"
   ],
   "id": "12eb91f197d59f28",
   "outputs": [],
   "execution_count": 1
  },
  {
   "metadata": {},
   "cell_type": "code",
   "outputs": [],
   "execution_count": null,
   "source": [
    "#LLm output Schema\n",
    "from pydantic import BaseModel\n",
    "\n",
    "class Rule(BaseModel):\n",
    "    index:int\n",
    "    statement:str\n",
    "    strict:bool\n",
    "\n",
    "class Event(BaseModel):\n",
    "    name: str\n",
    "    date: str\n",
    "    location:str\n",
    "    items_to_bring: list[str]\n"
   ],
   "id": "1a7dc6201bc0cdbd"
  },
  {
   "metadata": {},
   "cell_type": "code",
   "outputs": [],
   "execution_count": null,
   "source": [
    "def main():\n",
    "    creds = None\n",
    "    if os.path.exists('secrets/token_yz.json'):\n",
    "        print(\"Token already exists. You can move to Gmail reading.\")\n",
    "        return\n",
    "\n",
    "    # Authenticate\n",
    "\n",
    "    # Save the token for future use\n",
    "\n"
   ],
   "id": "44dfe3af9d729fbf"
  },
  {
   "metadata": {
    "ExecuteTime": {
     "end_time": "2025-04-29T13:58:19.161839Z",
     "start_time": "2025-04-29T13:58:19.159442Z"
    }
   },
   "cell_type": "code",
   "source": [
    "import re\n",
    "\n",
    "text = 'episode 232'\n",
    "match = re.search(r'(episode|tome) (\\d+)', text)\n",
    "match.groups()"
   ],
   "id": "f05da9b69d125a8c",
   "outputs": [
    {
     "data": {
      "text/plain": [
       "('episode', '232')"
      ]
     },
     "execution_count": 7,
     "metadata": {},
     "output_type": "execute_result"
    }
   ],
   "execution_count": 7
  },
  {
   "metadata": {
    "ExecuteTime": {
     "end_time": "2025-04-29T14:08:10.075344Z",
     "start_time": "2025-04-29T14:08:10.072589Z"
    }
   },
   "cell_type": "code",
   "source": [
    "text = 'read: <verb> this is <adj> oh'\n",
    "re.split(r'<(\\w+)>',text)"
   ],
   "id": "4e6b6e7609b0d303",
   "outputs": [
    {
     "data": {
      "text/plain": [
       "['read: ', 'verb', ' this is ', 'adj', ' oh']"
      ]
     },
     "execution_count": 10,
     "metadata": {},
     "output_type": "execute_result"
    }
   ],
   "execution_count": 10
  },
  {
   "metadata": {
    "ExecuteTime": {
     "end_time": "2025-04-29T14:21:31.375672Z",
     "start_time": "2025-04-29T14:21:31.373807Z"
    }
   },
   "cell_type": "code",
   "source": "episode_regex = re.compile(r'(?:episode|part|chapter)\\s+(\\d+|[IVXivx]+)', re.IGNORECASE)",
   "id": "a964fea86fe3a1a7",
   "outputs": [],
   "execution_count": 16
  },
  {
   "metadata": {
    "ExecuteTime": {
     "end_time": "2025-04-29T14:21:32.729638Z",
     "start_time": "2025-04-29T14:21:32.726535Z"
    }
   },
   "cell_type": "code",
   "source": [
    "text = \"I like Episode  IV more than part 32\"\n",
    "episode_regex.findall(text)"
   ],
   "id": "d502e4379598d330",
   "outputs": [
    {
     "data": {
      "text/plain": [
       "['IV', '32']"
      ]
     },
     "execution_count": 17,
     "metadata": {},
     "output_type": "execute_result"
    }
   ],
   "execution_count": 17
  },
  {
   "metadata": {},
   "cell_type": "code",
   "outputs": [],
   "execution_count": null,
   "source": "",
   "id": "8a3575c19552e8f6"
  }
 ],
 "metadata": {
  "kernelspec": {
   "display_name": "Python 3",
   "language": "python",
   "name": "python3"
  },
  "language_info": {
   "codemirror_mode": {
    "name": "ipython",
    "version": 2
   },
   "file_extension": ".py",
   "mimetype": "text/x-python",
   "name": "python",
   "nbconvert_exporter": "python",
   "pygments_lexer": "ipython2",
   "version": "2.7.6"
  }
 },
 "nbformat": 4,
 "nbformat_minor": 5
}
