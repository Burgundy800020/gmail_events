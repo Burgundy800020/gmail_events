{
 "cells": [
  {
   "cell_type": "code",
   "id": "initial_id",
   "metadata": {
    "collapsed": true,
    "ExecuteTime": {
     "end_time": "2025-05-08T21:49:50.761565Z",
     "start_time": "2025-05-08T21:49:50.664194Z"
    }
   },
   "source": [
    "from google_auth_oauthlib.flow import InstalledAppFlow\n",
    "from googleapiclient.discovery import build\n",
    "import pickle\n",
    "import os\n",
    "\n",
    "# If modifying SCOPES, delete the token.pickle file\n",
    "SCOPES = ['https://www.googleapis.com/auth/gmail.readonly']\n"
   ],
   "outputs": [],
   "execution_count": 1
  },
  {
   "metadata": {},
   "cell_type": "code",
   "outputs": [],
   "execution_count": null,
   "source": [
    "#google cloud project\n",
    "#Oauth client, get secret file\n",
    "#client: from secret file, generate token"
   ],
   "id": "2b2f9ae50cf95f78"
  },
  {
   "metadata": {
    "ExecuteTime": {
     "end_time": "2025-05-03T18:47:26.256995Z",
     "start_time": "2025-05-03T18:42:40.773580Z"
    }
   },
   "cell_type": "code",
   "source": [
    "\n",
    "flow = InstalledAppFlow.from_client_secrets_file(\n",
    "    'secrets/credentials.json', SCOPES)\n",
    "creds = flow.run_local_server(port=0)\n"
   ],
   "id": "7a4efd4dfea7b15e",
   "outputs": [
    {
     "name": "stdout",
     "output_type": "stream",
     "text": [
      "Please visit this URL to authorize this application: https://accounts.google.com/o/oauth2/auth?response_type=code&client_id=20825329160-t295tn79givfkk0n1fds5qj5c3ffrcar.apps.googleusercontent.com&redirect_uri=http%3A%2F%2Flocalhost%3A49569%2F&scope=https%3A%2F%2Fwww.googleapis.com%2Fauth%2Fgmail.readonly&state=uKkLPVkibydJmeOZdzqXPxCjqboBXY&access_type=offline\n"
     ]
    }
   ],
   "execution_count": 2
  },
  {
   "metadata": {
    "ExecuteTime": {
     "end_time": "2025-05-03T18:47:54.593480Z",
     "start_time": "2025-05-03T18:47:54.590754Z"
    }
   },
   "cell_type": "code",
   "source": [
    "with open('secrets/token_jj.json', 'w') as token:\n",
    "    token.write(creds.to_json())\n"
   ],
   "id": "db67a4b13f8772ad",
   "outputs": [],
   "execution_count": 3
  },
  {
   "metadata": {
    "ExecuteTime": {
     "end_time": "2025-05-08T21:49:53.139084Z",
     "start_time": "2025-05-08T21:49:53.133750Z"
    }
   },
   "cell_type": "code",
   "source": [
    "from google.oauth2.credentials import Credentials\n",
    "from googleapiclient.discovery import build\n",
    "\n",
    "# Load the token_yz.json\n",
    "creds = Credentials.from_authorized_user_file('secrets/token_jj.json',\n",
    "                                              ['https://www.googleapis.com/auth/gmail.readonly'])\n",
    "\n",
    "# Build the Gmail service\n",
    "service = build('gmail', 'v1', credentials=creds)\n",
    "\n",
    "\n",
    "def get_latest_emails():\n",
    "    # List unread messages\n",
    "    results = service.users().messages().list(userId='me', labelIds=[], maxResults=5).execute()\n",
    "    message_ids = results.get('messages', [])\n",
    "\n",
    "    messages = []\n",
    "    if not message_ids:\n",
    "        return []\n",
    "\n",
    "    for message in message_ids:\n",
    "        msg = service.users().messages().get(userId='me', id=message['id']).execute()\n",
    "        messages.append(msg)\n",
    "\n",
    "        payload = msg['payload']\n",
    "        headers = payload['headers']\n",
    "\n",
    "        subject = \"\"\n",
    "        sender = \"\"\n",
    "        for header in headers:\n",
    "            if header['name'] == 'Subject':\n",
    "                subject = header['value']\n",
    "            if header['name'] == 'From':\n",
    "                sender = header['value']\n",
    "\n",
    "        snippet = msg.get('snippet')\n",
    "\n",
    "        print(f\"From: {sender}\")\n",
    "        print(f\"Subject: {subject}\")\n",
    "        print(f\"Snippet: {snippet}\")\n",
    "        print(\"-\" * 40)\n",
    "    return messages\n"
   ],
   "id": "aa66ffb7c935aaa4",
   "outputs": [],
   "execution_count": 2
  },
  {
   "metadata": {
    "ExecuteTime": {
     "end_time": "2025-05-08T21:49:55.235454Z",
     "start_time": "2025-05-08T21:49:54.233689Z"
    }
   },
   "cell_type": "code",
   "source": "messages = get_latest_emails()",
   "id": "4a0df0bd9873a843",
   "outputs": [
    {
     "name": "stdout",
     "output_type": "stream",
     "text": [
      "From: Yizhou Wang <yizhou.wang.1218@gmail.com>\n",
      "Subject: Basketball game\n",
      "Snippet: First game May 10, at Scheley Park. Bring water bottle and jersey. Coach\n",
      "----------------------------------------\n",
      "From: Google <no-reply@accounts.google.com>\n",
      "Subject: Security alert\n",
      "Snippet: gmail_events was granted access to your Google Account jiangjiang1510@gmail.com If you did not grant access, you should check this activity and secure your account. Check activity You can also see\n",
      "----------------------------------------\n",
      "From: Yizhou Wang <yizhou.wang.1218@gmail.com>\n",
      "Subject: Hello\n",
      "Snippet: Hello Jiang Jiang\n",
      "----------------------------------------\n"
     ]
    }
   ],
   "execution_count": 3
  },
  {
   "metadata": {
    "ExecuteTime": {
     "end_time": "2025-04-29T02:43:29.962567Z",
     "start_time": "2025-04-29T02:43:29.960409Z"
    }
   },
   "cell_type": "code",
   "source": [
    "import html\n",
    "for message in messages:\n",
    "    print(html.unescape(message['snippet']))"
   ],
   "id": "d723ad9eedca1e6b",
   "outputs": [
    {
     "name": "stdout",
     "output_type": "stream",
     "text": [
      "You have 10+ new invitations ͏ ͏ ͏ ͏ ͏ ͏ ͏ ͏ ͏ ͏ ͏ ͏ ͏ ͏ ͏ ͏ ͏ ͏ ͏ ͏ ͏ ͏ ͏ ͏ ͏ ͏ ͏ ͏ ͏ ͏ ͏ ͏ ͏ ͏ ͏ ͏ ͏ ͏ ͏ ͏ ͏ ͏ ͏ ͏ ͏ ͏ ͏ ͏ ͏ ͏ ͏ ͏ ͏ ͏ ͏ ͏ ͏ ͏ ͏ ͏ ͏ ͏ ͏ ͏ ͏ ͏ ͏ ͏ ͏ ͏ ͏ ͏ ͏ ͏ ͏ ͏ ͏ ͏ ͏ ͏ ͏ ͏ ͏ ͏ ͏ ͏\n",
      "Loblaw Companies Limited Caissier/caissière temps partiel après-midi: Come make your difference in communities across… ͏ ͏ ͏ ͏ ͏ ͏ ͏ ͏ ͏ ͏ ͏ ͏ ͏ ͏ ͏ ͏ ͏ ͏ ͏ ͏ ͏ ͏ ͏ ͏ ͏ ͏ ͏ ͏ ͏ ͏ ͏ ͏ ͏ ͏ ͏ ͏ ͏ ͏ ͏ ͏ ͏\n",
      "LM Studio is hiring ‌​‍‎‏﻿ ‌​‍‎‏﻿ ‌​‍‎‏﻿ ‌​‍‎‏﻿ ‌​‍‎‏﻿ ‌​‍‎‏﻿ ‌​‍‎‏﻿ ‌​‍‎‏﻿ ‌​‍‎‏﻿ ‌​‍‎‏﻿ ‌​‍‎‏﻿ ‌​‍‎‏﻿ ‌​‍‎‏﻿ ‌​‍‎‏﻿ ‌​‍‎‏﻿ ‌​‍‎‏﻿ ‌​‍‎‏﻿ ‌​‍‎‏﻿ ‌​‍‎‏﻿ ‌​‍‎‏﻿ ‌​‍‎‏﻿ ‌​‍‎‏﻿ ‌​‍‎‏﻿ ‌​‍‎‏﻿ ‌​‍‎‏﻿ ‌​‍‎‏﻿\n",
      "Zelle® payment of $7.00 to ARUSHI SINGH has been sent Sent from account ending in 4725 To 908-666-7791 View your balance Confirmation gj9geqyyr If you didn't make this payment, contact us Zelle®\n",
      "Save up to $40 on a $50+ order ͏ ͏ ͏ ͏ ͏ ͏ ͏ ͏ ͏ ͏ ͏ ͏ ͏ ͏ ͏ ͏ ͏ ͏ ͏ ͏ ͏ ͏ ͏ ͏ ͏ ͏ ͏ ͏ ͏ ͏ ͏ ͏ ͏ ͏ ͏ ͏ ͏ ͏ ͏ ͏ ͏ ͏ ͏ ͏ ͏ ͏ ͏ ͏ ͏ ͏ ͏ ͏ ͏ ͏ ͏ ͏ ͏ ͏ ͏ ͏ ͏ ͏ ͏ ͏ ͏ ͏ ͏ ͏ ͏ ͏ ͏ ͏ ͏ ͏ ͏ ͏ ͏ ͏ ͏ ͏ ͏ ͏ ͏ ͏ ͏\n"
     ]
    }
   ],
   "execution_count": 14
  },
  {
   "metadata": {
    "ExecuteTime": {
     "end_time": "2025-05-08T21:49:58.621610Z",
     "start_time": "2025-05-08T21:49:58.617953Z"
    }
   },
   "cell_type": "code",
   "source": [
    "import base64\n",
    "def decode_base64url(data):\n",
    "    # Base64url might miss padding, so fix it\n",
    "    missing_padding = len(data) % 4\n",
    "    if missing_padding:\n",
    "        data += '=' * (4 - missing_padding)\n",
    "\n",
    "    decoded_bytes = base64.urlsafe_b64decode(data)\n",
    "    return decoded_bytes.decode('utf-8')  # assume it's UTF-8 text inside\n",
    "\n",
    "#message: gmail users.messages.get response\n",
    "def unpack_gmail_message(message):\n",
    "    payload = message['payload']\n",
    "    #mime types: text/plain, text/html\n",
    "    if payload['mimeType'] == 'text/plain' and (res := payload['body'].get('data','')):\n",
    "        return res\n",
    "    if 'parts' not in payload: return ''\n",
    "    for part in payload['parts']:\n",
    "        if part['mimeType'] == 'text/plain' and (res := part['body'].get('data','')):\n",
    "            return res\n",
    "    return ''\n",
    "\n",
    "decoded_messages = []\n",
    "for message in messages:\n",
    "    # print(decode_base64url(message['payload']['body'].get('data','')))\n",
    "    decoded_messages.append(decode_base64url(unpack_gmail_message(message)))\n",
    "    print(decode_base64url(unpack_gmail_message(message)))\n",
    "\n"
   ],
   "id": "9bcb43975a8c689",
   "outputs": [
    {
     "name": "stdout",
     "output_type": "stream",
     "text": [
      "First game May 10, at Scheley Park.\r\n",
      "\r\n",
      "Bring water bottle and jersey.\r\n",
      "\r\n",
      "Coach\r\n",
      "\n",
      "[image: Google]\r\n",
      "gmail_events was granted access to your Google Account\r\n",
      "\r\n",
      "\r\n",
      "jiangjiang1510@gmail.com\r\n",
      "\r\n",
      "If you did not grant access, you should check this activity and secure your\r\n",
      "account.\r\n",
      "Check activity\r\n",
      "<https://accounts.google.com/AccountChooser?Email=jiangjiang1510@gmail.com&continue=https://myaccount.google.com/alert/nt/1746298046000?rfn%3D127%26rfnc%3D1%26eid%3D-1365359470938102728%26et%3D0>\r\n",
      "You can also see security activity at\r\n",
      "https://myaccount.google.com/notifications\r\n",
      "You received this email to let you know about important changes to your\r\n",
      "Google Account and services.\r\n",
      "© 2025 Google LLC, 1600 Amphitheatre Parkway, Mountain View, CA 94043, USA\r\n",
      "\n",
      "Hello Jiang Jiang\r\n",
      "\n"
     ]
    }
   ],
   "execution_count": 4
  },
  {
   "metadata": {
    "ExecuteTime": {
     "end_time": "2025-05-08T21:50:15.806865Z",
     "start_time": "2025-05-08T21:50:15.598598Z"
    }
   },
   "cell_type": "code",
   "source": [
    "from gpt import OpenAI\n",
    "import os\n",
    "\n",
    "# TODO: Put your API key here\n",
    "client = OpenAI(api_key=os.environ['OPEN_AI'])\n"
   ],
   "id": "12eb91f197d59f28",
   "outputs": [],
   "execution_count": 5
  },
  {
   "metadata": {
    "ExecuteTime": {
     "end_time": "2025-05-08T23:06:20.165100Z",
     "start_time": "2025-05-08T23:06:20.160432Z"
    }
   },
   "cell_type": "code",
   "source": [
    "#LLm output Schema\n",
    "from pydantic import BaseModel\n",
    "\n",
    "class Event(BaseModel):\n",
    "    name: str\n",
    "    date: str\n",
    "    location:str\n",
    "    items_to_bring: list[str]\n"
   ],
   "id": "1a7dc6201bc0cdbd",
   "outputs": [],
   "execution_count": 12
  },
  {
   "metadata": {
    "ExecuteTime": {
     "end_time": "2025-05-08T23:06:26.068579Z",
     "start_time": "2025-05-08T23:06:20.770139Z"
    }
   },
   "cell_type": "code",
   "source": [
    "responses = []\n",
    "prompt = (\"You will be given an email body. Extract the event information. \"\n",
    "          \"If no event or a field is missing, leave it blank\"\n",
    "          )\n",
    "for message in decoded_messages:\n",
    "    response = client.beta.chat.completions.parse(\n",
    "        model=\"gpt-4o\",\n",
    "        messages=[\n",
    "            {\"role\": \"system\", \"content\": prompt},\n",
    "            {\n",
    "                \"role\": \"user\",\n",
    "                \"content\": message\n",
    "            },\n",
    "        ],\n",
    "        response_format=Event\n",
    "    )\n",
    "    responses.append(response)\n"
   ],
   "id": "bfd5553a21095eb4",
   "outputs": [],
   "execution_count": 13
  },
  {
   "metadata": {
    "ExecuteTime": {
     "end_time": "2025-05-08T23:06:27.454253Z",
     "start_time": "2025-05-08T23:06:27.451959Z"
    }
   },
   "cell_type": "code",
   "source": [
    "import json\n",
    "events = []\n",
    "for response in responses:\n",
    "    events.append(json.loads(response.choices[0].message.content))\n"
   ],
   "id": "b4bd3d77d07f6cb1",
   "outputs": [],
   "execution_count": 14
  },
  {
   "metadata": {
    "ExecuteTime": {
     "end_time": "2025-05-08T21:50:35.338704Z",
     "start_time": "2025-05-08T21:50:32.144924Z"
    }
   },
   "cell_type": "code",
   "source": [
    "from gpt import OpenAI\n",
    "from pydantic import BaseModel\n",
    "from typing import Optional\n",
    "\n",
    "# Your schema\n",
    "class Event(BaseModel):\n",
    "    title: Optional[str]\n",
    "    date: Optional[str]\n",
    "    time: Optional[str]\n",
    "    location: Optional[str]\n",
    "\n",
    "responses = []\n",
    "\n",
    "# Define the function schema for tool calling\n",
    "tool_spec = {\n",
    "    \"name\": \"extract_event\",\n",
    "    \"description\": \"Extracts event information from an email.\",\n",
    "    \"parameters\": {\n",
    "        \"type\": \"object\",\n",
    "        \"properties\": {\n",
    "            \"title\": {\"type\": \"string\", \"description\": \"Name of the event\"},\n",
    "            \"date\": {\"type\": \"string\", \"description\": \"Date of the event\"},\n",
    "            \"time\": {\"type\": \"string\", \"description\": \"Time of the event\"},\n",
    "            \"location\": {\"type\": \"string\", \"description\": \"Location of the event\"},\n",
    "        },\n",
    "        \"required\": []\n",
    "    }\n",
    "}\n",
    "\n",
    "prompt = (\"You will be given an email body. Extract the event information. \"\n",
    "          \"If no event or a field is missing, leave it blank.\"\n",
    "          )\n",
    "\n",
    "for message in decoded_messages:\n",
    "    response = client.chat.completions.create(\n",
    "        model=\"gpt-4o\",\n",
    "        messages=[\n",
    "            {\"role\": \"system\", \"content\": prompt},\n",
    "            {\"role\": \"user\", \"content\": message}\n",
    "        ],\n",
    "        tools=[{\"type\": \"function\", \"function\": tool_spec}],\n",
    "        tool_choice=\"auto\"\n",
    "    )\n",
    "\n",
    "    tool_call = response.choices[0].message.tool_calls[0]\n",
    "    function_args = tool_call.function.arguments  # This is a JSON string\n",
    "    event = Event.model_validate_json(function_args)  # Validate against your Event model\n",
    "\n",
    "    responses.append(event)\n"
   ],
   "id": "4b3f9a960074396e",
   "outputs": [
    {
     "ename": "TypeError",
     "evalue": "'NoneType' object is not subscriptable",
     "output_type": "error",
     "traceback": [
      "\u001B[31m---------------------------------------------------------------------------\u001B[39m",
      "\u001B[31mTypeError\u001B[39m                                 Traceback (most recent call last)",
      "\u001B[36mCell\u001B[39m\u001B[36m \u001B[39m\u001B[32mIn[8]\u001B[39m\u001B[32m, line 45\u001B[39m\n\u001B[32m     34\u001B[39m \u001B[38;5;28;01mfor\u001B[39;00m message \u001B[38;5;129;01min\u001B[39;00m decoded_messages:\n\u001B[32m     35\u001B[39m     response = client.chat.completions.create(\n\u001B[32m     36\u001B[39m         model=\u001B[33m\"\u001B[39m\u001B[33mgpt-4o\u001B[39m\u001B[33m\"\u001B[39m,\n\u001B[32m     37\u001B[39m         messages=[\n\u001B[32m   (...)\u001B[39m\u001B[32m     42\u001B[39m         tool_choice=\u001B[33m\"\u001B[39m\u001B[33mauto\u001B[39m\u001B[33m\"\u001B[39m\n\u001B[32m     43\u001B[39m     )\n\u001B[32m---> \u001B[39m\u001B[32m45\u001B[39m     tool_call = response.choices[\u001B[32m0\u001B[39m].message.tool_calls[\u001B[32m0\u001B[39m]\n\u001B[32m     46\u001B[39m     function_args = tool_call.function.arguments  \u001B[38;5;66;03m# This is a JSON string\u001B[39;00m\n\u001B[32m     47\u001B[39m     event = Event.model_validate_json(function_args)  \u001B[38;5;66;03m# Validate against your Event model\u001B[39;00m\n",
      "\u001B[31mTypeError\u001B[39m: 'NoneType' object is not subscriptable"
     ]
    }
   ],
   "execution_count": 8
  },
  {
   "metadata": {
    "ExecuteTime": {
     "end_time": "2025-05-08T21:46:54.775726Z",
     "start_time": "2025-05-08T21:46:52.916782Z"
    }
   },
   "cell_type": "code",
   "source": [
    "client.completions.create(\n",
    "    model=\"gpt-4o\",\n",
    "    prompt=\"Hello\",\n",
    ")"
   ],
   "id": "7ec95295735c0069",
   "outputs": [
    {
     "ename": "APIConnectionError",
     "evalue": "Connection error.",
     "output_type": "error",
     "traceback": [
      "\u001B[31m---------------------------------------------------------------------------\u001B[39m",
      "\u001B[31mLocalProtocolError\u001B[39m                        Traceback (most recent call last)",
      "\u001B[36mFile \u001B[39m\u001B[32m/opt/anaconda3/envs/gmail_events/lib/python3.12/site-packages/httpcore/_exceptions.py:10\u001B[39m, in \u001B[36mmap_exceptions\u001B[39m\u001B[34m(map)\u001B[39m\n\u001B[32m      9\u001B[39m \u001B[38;5;28;01mtry\u001B[39;00m:\n\u001B[32m---> \u001B[39m\u001B[32m10\u001B[39m     \u001B[38;5;28;01myield\u001B[39;00m\n\u001B[32m     11\u001B[39m \u001B[38;5;28;01mexcept\u001B[39;00m \u001B[38;5;167;01mException\u001B[39;00m \u001B[38;5;28;01mas\u001B[39;00m exc:  \u001B[38;5;66;03m# noqa: PIE786\u001B[39;00m\n",
      "\u001B[36mFile \u001B[39m\u001B[32m/opt/anaconda3/envs/gmail_events/lib/python3.12/site-packages/httpcore/_sync/http11.py:142\u001B[39m, in \u001B[36mHTTP11Connection._send_request_headers\u001B[39m\u001B[34m(self, request)\u001B[39m\n\u001B[32m    141\u001B[39m \u001B[38;5;28;01mwith\u001B[39;00m map_exceptions({h11.LocalProtocolError: LocalProtocolError}):\n\u001B[32m--> \u001B[39m\u001B[32m142\u001B[39m     event = h11.Request(\n\u001B[32m    143\u001B[39m         method=request.method,\n\u001B[32m    144\u001B[39m         target=request.url.target,\n\u001B[32m    145\u001B[39m         headers=request.headers,\n\u001B[32m    146\u001B[39m     )\n\u001B[32m    147\u001B[39m \u001B[38;5;28mself\u001B[39m._send_event(event, timeout=timeout)\n",
      "\u001B[36mFile \u001B[39m\u001B[32m/opt/anaconda3/envs/gmail_events/lib/python3.12/site-packages/h11/_events.py:96\u001B[39m, in \u001B[36mRequest.__init__\u001B[39m\u001B[34m(self, method, headers, target, http_version, _parsed)\u001B[39m\n\u001B[32m     94\u001B[39m \u001B[38;5;28;01melse\u001B[39;00m:\n\u001B[32m     95\u001B[39m     \u001B[38;5;28mobject\u001B[39m.\u001B[34m__setattr__\u001B[39m(\n\u001B[32m---> \u001B[39m\u001B[32m96\u001B[39m         \u001B[38;5;28mself\u001B[39m, \u001B[33m\"\u001B[39m\u001B[33mheaders\u001B[39m\u001B[33m\"\u001B[39m, normalize_and_validate(headers, _parsed=_parsed)\n\u001B[32m     97\u001B[39m     )\n\u001B[32m     98\u001B[39m \u001B[38;5;28;01mif\u001B[39;00m \u001B[38;5;129;01mnot\u001B[39;00m _parsed:\n",
      "\u001B[36mFile \u001B[39m\u001B[32m/opt/anaconda3/envs/gmail_events/lib/python3.12/site-packages/h11/_headers.py:164\u001B[39m, in \u001B[36mnormalize_and_validate\u001B[39m\u001B[34m(headers, _parsed)\u001B[39m\n\u001B[32m    163\u001B[39m     validate(_field_name_re, name, \u001B[33m\"\u001B[39m\u001B[33mIllegal header name \u001B[39m\u001B[38;5;132;01m{!r}\u001B[39;00m\u001B[33m\"\u001B[39m, name)\n\u001B[32m--> \u001B[39m\u001B[32m164\u001B[39m     validate(_field_value_re, value, \u001B[33m\"\u001B[39m\u001B[33mIllegal header value \u001B[39m\u001B[38;5;132;01m{!r}\u001B[39;00m\u001B[33m\"\u001B[39m, value)\n\u001B[32m    165\u001B[39m \u001B[38;5;28;01massert\u001B[39;00m \u001B[38;5;28misinstance\u001B[39m(name, \u001B[38;5;28mbytes\u001B[39m)\n",
      "\u001B[36mFile \u001B[39m\u001B[32m/opt/anaconda3/envs/gmail_events/lib/python3.12/site-packages/h11/_util.py:91\u001B[39m, in \u001B[36mvalidate\u001B[39m\u001B[34m(regex, data, msg, *format_args)\u001B[39m\n\u001B[32m     90\u001B[39m         msg = msg.format(*format_args)\n\u001B[32m---> \u001B[39m\u001B[32m91\u001B[39m     \u001B[38;5;28;01mraise\u001B[39;00m LocalProtocolError(msg)\n\u001B[32m     92\u001B[39m \u001B[38;5;28;01mreturn\u001B[39;00m match.groupdict()\n",
      "\u001B[31mLocalProtocolError\u001B[39m: Illegal header value b'Bearer sk-iBMRe6osguGlEPBF6QQNEQ '",
      "\nThe above exception was the direct cause of the following exception:\n",
      "\u001B[31mLocalProtocolError\u001B[39m                        Traceback (most recent call last)",
      "\u001B[36mFile \u001B[39m\u001B[32m/opt/anaconda3/envs/gmail_events/lib/python3.12/site-packages/httpx/_transports/default.py:69\u001B[39m, in \u001B[36mmap_httpcore_exceptions\u001B[39m\u001B[34m()\u001B[39m\n\u001B[32m     68\u001B[39m \u001B[38;5;28;01mtry\u001B[39;00m:\n\u001B[32m---> \u001B[39m\u001B[32m69\u001B[39m     \u001B[38;5;28;01myield\u001B[39;00m\n\u001B[32m     70\u001B[39m \u001B[38;5;28;01mexcept\u001B[39;00m \u001B[38;5;167;01mException\u001B[39;00m \u001B[38;5;28;01mas\u001B[39;00m exc:\n",
      "\u001B[36mFile \u001B[39m\u001B[32m/opt/anaconda3/envs/gmail_events/lib/python3.12/site-packages/httpx/_transports/default.py:233\u001B[39m, in \u001B[36mHTTPTransport.handle_request\u001B[39m\u001B[34m(self, request)\u001B[39m\n\u001B[32m    232\u001B[39m \u001B[38;5;28;01mwith\u001B[39;00m map_httpcore_exceptions():\n\u001B[32m--> \u001B[39m\u001B[32m233\u001B[39m     resp = \u001B[38;5;28mself\u001B[39m._pool.handle_request(req)\n\u001B[32m    235\u001B[39m \u001B[38;5;28;01massert\u001B[39;00m \u001B[38;5;28misinstance\u001B[39m(resp.stream, typing.Iterable)\n",
      "\u001B[36mFile \u001B[39m\u001B[32m/opt/anaconda3/envs/gmail_events/lib/python3.12/site-packages/httpcore/_sync/connection_pool.py:268\u001B[39m, in \u001B[36mConnectionPool.handle_request\u001B[39m\u001B[34m(self, request)\u001B[39m\n\u001B[32m    267\u001B[39m         \u001B[38;5;28mself\u001B[39m.response_closed(status)\n\u001B[32m--> \u001B[39m\u001B[32m268\u001B[39m     \u001B[38;5;28;01mraise\u001B[39;00m exc\n\u001B[32m    269\u001B[39m \u001B[38;5;28;01melse\u001B[39;00m:\n",
      "\u001B[36mFile \u001B[39m\u001B[32m/opt/anaconda3/envs/gmail_events/lib/python3.12/site-packages/httpcore/_sync/connection_pool.py:251\u001B[39m, in \u001B[36mConnectionPool.handle_request\u001B[39m\u001B[34m(self, request)\u001B[39m\n\u001B[32m    250\u001B[39m \u001B[38;5;28;01mtry\u001B[39;00m:\n\u001B[32m--> \u001B[39m\u001B[32m251\u001B[39m     response = connection.handle_request(request)\n\u001B[32m    252\u001B[39m \u001B[38;5;28;01mexcept\u001B[39;00m ConnectionNotAvailable:\n\u001B[32m    253\u001B[39m     \u001B[38;5;66;03m# The ConnectionNotAvailable exception is a special case, that\u001B[39;00m\n\u001B[32m    254\u001B[39m     \u001B[38;5;66;03m# indicates we need to retry the request on a new connection.\u001B[39;00m\n\u001B[32m   (...)\u001B[39m\u001B[32m    258\u001B[39m     \u001B[38;5;66;03m# might end up as an HTTP/2 connection, but which actually ends\u001B[39;00m\n\u001B[32m    259\u001B[39m     \u001B[38;5;66;03m# up as HTTP/1.1.\u001B[39;00m\n",
      "\u001B[36mFile \u001B[39m\u001B[32m/opt/anaconda3/envs/gmail_events/lib/python3.12/site-packages/httpcore/_sync/connection.py:103\u001B[39m, in \u001B[36mHTTPConnection.handle_request\u001B[39m\u001B[34m(self, request)\u001B[39m\n\u001B[32m    101\u001B[39m         \u001B[38;5;28;01mraise\u001B[39;00m ConnectionNotAvailable()\n\u001B[32m--> \u001B[39m\u001B[32m103\u001B[39m \u001B[38;5;28;01mreturn\u001B[39;00m \u001B[38;5;28mself\u001B[39m._connection.handle_request(request)\n",
      "\u001B[36mFile \u001B[39m\u001B[32m/opt/anaconda3/envs/gmail_events/lib/python3.12/site-packages/httpcore/_sync/http11.py:133\u001B[39m, in \u001B[36mHTTP11Connection.handle_request\u001B[39m\u001B[34m(self, request)\u001B[39m\n\u001B[32m    132\u001B[39m         \u001B[38;5;28mself\u001B[39m._response_closed()\n\u001B[32m--> \u001B[39m\u001B[32m133\u001B[39m \u001B[38;5;28;01mraise\u001B[39;00m exc\n",
      "\u001B[36mFile \u001B[39m\u001B[32m/opt/anaconda3/envs/gmail_events/lib/python3.12/site-packages/httpcore/_sync/http11.py:92\u001B[39m, in \u001B[36mHTTP11Connection.handle_request\u001B[39m\u001B[34m(self, request)\u001B[39m\n\u001B[32m     89\u001B[39m \u001B[38;5;28;01mwith\u001B[39;00m Trace(\n\u001B[32m     90\u001B[39m     \u001B[33m\"\u001B[39m\u001B[33msend_request_headers\u001B[39m\u001B[33m\"\u001B[39m, logger, request, kwargs\n\u001B[32m     91\u001B[39m ) \u001B[38;5;28;01mas\u001B[39;00m trace:\n\u001B[32m---> \u001B[39m\u001B[32m92\u001B[39m     \u001B[38;5;28mself\u001B[39m._send_request_headers(**kwargs)\n\u001B[32m     93\u001B[39m \u001B[38;5;28;01mwith\u001B[39;00m Trace(\u001B[33m\"\u001B[39m\u001B[33msend_request_body\u001B[39m\u001B[33m\"\u001B[39m, logger, request, kwargs) \u001B[38;5;28;01mas\u001B[39;00m trace:\n",
      "\u001B[36mFile \u001B[39m\u001B[32m/opt/anaconda3/envs/gmail_events/lib/python3.12/site-packages/httpcore/_sync/http11.py:141\u001B[39m, in \u001B[36mHTTP11Connection._send_request_headers\u001B[39m\u001B[34m(self, request)\u001B[39m\n\u001B[32m    139\u001B[39m timeout = timeouts.get(\u001B[33m\"\u001B[39m\u001B[33mwrite\u001B[39m\u001B[33m\"\u001B[39m, \u001B[38;5;28;01mNone\u001B[39;00m)\n\u001B[32m--> \u001B[39m\u001B[32m141\u001B[39m \u001B[38;5;28;01mwith\u001B[39;00m map_exceptions({h11.LocalProtocolError: LocalProtocolError}):\n\u001B[32m    142\u001B[39m     event = h11.Request(\n\u001B[32m    143\u001B[39m         method=request.method,\n\u001B[32m    144\u001B[39m         target=request.url.target,\n\u001B[32m    145\u001B[39m         headers=request.headers,\n\u001B[32m    146\u001B[39m     )\n",
      "\u001B[36mFile \u001B[39m\u001B[32m/opt/anaconda3/envs/gmail_events/lib/python3.12/contextlib.py:158\u001B[39m, in \u001B[36m_GeneratorContextManager.__exit__\u001B[39m\u001B[34m(self, typ, value, traceback)\u001B[39m\n\u001B[32m    157\u001B[39m \u001B[38;5;28;01mtry\u001B[39;00m:\n\u001B[32m--> \u001B[39m\u001B[32m158\u001B[39m     \u001B[38;5;28mself\u001B[39m.gen.throw(value)\n\u001B[32m    159\u001B[39m \u001B[38;5;28;01mexcept\u001B[39;00m \u001B[38;5;167;01mStopIteration\u001B[39;00m \u001B[38;5;28;01mas\u001B[39;00m exc:\n\u001B[32m    160\u001B[39m     \u001B[38;5;66;03m# Suppress StopIteration *unless* it's the same exception that\u001B[39;00m\n\u001B[32m    161\u001B[39m     \u001B[38;5;66;03m# was passed to throw().  This prevents a StopIteration\u001B[39;00m\n\u001B[32m    162\u001B[39m     \u001B[38;5;66;03m# raised inside the \"with\" statement from being suppressed.\u001B[39;00m\n",
      "\u001B[36mFile \u001B[39m\u001B[32m/opt/anaconda3/envs/gmail_events/lib/python3.12/site-packages/httpcore/_exceptions.py:14\u001B[39m, in \u001B[36mmap_exceptions\u001B[39m\u001B[34m(map)\u001B[39m\n\u001B[32m     13\u001B[39m     \u001B[38;5;28;01mif\u001B[39;00m \u001B[38;5;28misinstance\u001B[39m(exc, from_exc):\n\u001B[32m---> \u001B[39m\u001B[32m14\u001B[39m         \u001B[38;5;28;01mraise\u001B[39;00m to_exc(exc) \u001B[38;5;28;01mfrom\u001B[39;00m\u001B[38;5;250m \u001B[39m\u001B[34;01mexc\u001B[39;00m\n\u001B[32m     15\u001B[39m \u001B[38;5;28;01mraise\u001B[39;00m\n",
      "\u001B[31mLocalProtocolError\u001B[39m: Illegal header value b'Bearer sk-iBMRe6osguGlEPBF6QQNEQ '",
      "\nThe above exception was the direct cause of the following exception:\n",
      "\u001B[31mLocalProtocolError\u001B[39m                        Traceback (most recent call last)",
      "\u001B[36mFile \u001B[39m\u001B[32m/opt/anaconda3/envs/gmail_events/lib/python3.12/site-packages/openai/_base_client.py:996\u001B[39m, in \u001B[36mSyncAPIClient._request\u001B[39m\u001B[34m(self, cast_to, options, retries_taken, stream, stream_cls)\u001B[39m\n\u001B[32m    995\u001B[39m \u001B[38;5;28;01mtry\u001B[39;00m:\n\u001B[32m--> \u001B[39m\u001B[32m996\u001B[39m     response = \u001B[38;5;28mself\u001B[39m._client.send(\n\u001B[32m    997\u001B[39m         request,\n\u001B[32m    998\u001B[39m         stream=stream \u001B[38;5;129;01mor\u001B[39;00m \u001B[38;5;28mself\u001B[39m._should_stream_response_body(request=request),\n\u001B[32m    999\u001B[39m         **kwargs,\n\u001B[32m   1000\u001B[39m     )\n\u001B[32m   1001\u001B[39m \u001B[38;5;28;01mexcept\u001B[39;00m httpx.TimeoutException \u001B[38;5;28;01mas\u001B[39;00m err:\n",
      "\u001B[36mFile \u001B[39m\u001B[32m/opt/anaconda3/envs/gmail_events/lib/python3.12/site-packages/httpx/_client.py:914\u001B[39m, in \u001B[36mClient.send\u001B[39m\u001B[34m(self, request, stream, auth, follow_redirects)\u001B[39m\n\u001B[32m    912\u001B[39m auth = \u001B[38;5;28mself\u001B[39m._build_request_auth(request, auth)\n\u001B[32m--> \u001B[39m\u001B[32m914\u001B[39m response = \u001B[38;5;28mself\u001B[39m._send_handling_auth(\n\u001B[32m    915\u001B[39m     request,\n\u001B[32m    916\u001B[39m     auth=auth,\n\u001B[32m    917\u001B[39m     follow_redirects=follow_redirects,\n\u001B[32m    918\u001B[39m     history=[],\n\u001B[32m    919\u001B[39m )\n\u001B[32m    920\u001B[39m \u001B[38;5;28;01mtry\u001B[39;00m:\n",
      "\u001B[36mFile \u001B[39m\u001B[32m/opt/anaconda3/envs/gmail_events/lib/python3.12/site-packages/httpx/_client.py:942\u001B[39m, in \u001B[36mClient._send_handling_auth\u001B[39m\u001B[34m(self, request, auth, follow_redirects, history)\u001B[39m\n\u001B[32m    941\u001B[39m \u001B[38;5;28;01mwhile\u001B[39;00m \u001B[38;5;28;01mTrue\u001B[39;00m:\n\u001B[32m--> \u001B[39m\u001B[32m942\u001B[39m     response = \u001B[38;5;28mself\u001B[39m._send_handling_redirects(\n\u001B[32m    943\u001B[39m         request,\n\u001B[32m    944\u001B[39m         follow_redirects=follow_redirects,\n\u001B[32m    945\u001B[39m         history=history,\n\u001B[32m    946\u001B[39m     )\n\u001B[32m    947\u001B[39m     \u001B[38;5;28;01mtry\u001B[39;00m:\n",
      "\u001B[36mFile \u001B[39m\u001B[32m/opt/anaconda3/envs/gmail_events/lib/python3.12/site-packages/httpx/_client.py:979\u001B[39m, in \u001B[36mClient._send_handling_redirects\u001B[39m\u001B[34m(self, request, follow_redirects, history)\u001B[39m\n\u001B[32m    977\u001B[39m     hook(request)\n\u001B[32m--> \u001B[39m\u001B[32m979\u001B[39m response = \u001B[38;5;28mself\u001B[39m._send_single_request(request)\n\u001B[32m    980\u001B[39m \u001B[38;5;28;01mtry\u001B[39;00m:\n",
      "\u001B[36mFile \u001B[39m\u001B[32m/opt/anaconda3/envs/gmail_events/lib/python3.12/site-packages/httpx/_client.py:1015\u001B[39m, in \u001B[36mClient._send_single_request\u001B[39m\u001B[34m(self, request)\u001B[39m\n\u001B[32m   1014\u001B[39m \u001B[38;5;28;01mwith\u001B[39;00m request_context(request=request):\n\u001B[32m-> \u001B[39m\u001B[32m1015\u001B[39m     response = transport.handle_request(request)\n\u001B[32m   1017\u001B[39m \u001B[38;5;28;01massert\u001B[39;00m \u001B[38;5;28misinstance\u001B[39m(response.stream, SyncByteStream)\n",
      "\u001B[36mFile \u001B[39m\u001B[32m/opt/anaconda3/envs/gmail_events/lib/python3.12/site-packages/httpx/_transports/default.py:232\u001B[39m, in \u001B[36mHTTPTransport.handle_request\u001B[39m\u001B[34m(self, request)\u001B[39m\n\u001B[32m    220\u001B[39m req = httpcore.Request(\n\u001B[32m    221\u001B[39m     method=request.method,\n\u001B[32m    222\u001B[39m     url=httpcore.URL(\n\u001B[32m   (...)\u001B[39m\u001B[32m    230\u001B[39m     extensions=request.extensions,\n\u001B[32m    231\u001B[39m )\n\u001B[32m--> \u001B[39m\u001B[32m232\u001B[39m \u001B[38;5;28;01mwith\u001B[39;00m map_httpcore_exceptions():\n\u001B[32m    233\u001B[39m     resp = \u001B[38;5;28mself\u001B[39m._pool.handle_request(req)\n",
      "\u001B[36mFile \u001B[39m\u001B[32m/opt/anaconda3/envs/gmail_events/lib/python3.12/contextlib.py:158\u001B[39m, in \u001B[36m_GeneratorContextManager.__exit__\u001B[39m\u001B[34m(self, typ, value, traceback)\u001B[39m\n\u001B[32m    157\u001B[39m \u001B[38;5;28;01mtry\u001B[39;00m:\n\u001B[32m--> \u001B[39m\u001B[32m158\u001B[39m     \u001B[38;5;28mself\u001B[39m.gen.throw(value)\n\u001B[32m    159\u001B[39m \u001B[38;5;28;01mexcept\u001B[39;00m \u001B[38;5;167;01mStopIteration\u001B[39;00m \u001B[38;5;28;01mas\u001B[39;00m exc:\n\u001B[32m    160\u001B[39m     \u001B[38;5;66;03m# Suppress StopIteration *unless* it's the same exception that\u001B[39;00m\n\u001B[32m    161\u001B[39m     \u001B[38;5;66;03m# was passed to throw().  This prevents a StopIteration\u001B[39;00m\n\u001B[32m    162\u001B[39m     \u001B[38;5;66;03m# raised inside the \"with\" statement from being suppressed.\u001B[39;00m\n",
      "\u001B[36mFile \u001B[39m\u001B[32m/opt/anaconda3/envs/gmail_events/lib/python3.12/site-packages/httpx/_transports/default.py:86\u001B[39m, in \u001B[36mmap_httpcore_exceptions\u001B[39m\u001B[34m()\u001B[39m\n\u001B[32m     85\u001B[39m message = \u001B[38;5;28mstr\u001B[39m(exc)\n\u001B[32m---> \u001B[39m\u001B[32m86\u001B[39m \u001B[38;5;28;01mraise\u001B[39;00m mapped_exc(message) \u001B[38;5;28;01mfrom\u001B[39;00m\u001B[38;5;250m \u001B[39m\u001B[34;01mexc\u001B[39;00m\n",
      "\u001B[31mLocalProtocolError\u001B[39m: Illegal header value b'Bearer sk-iBMRe6osguGlEPBF6QQNEQ '",
      "\nDuring handling of the above exception, another exception occurred:\n",
      "\u001B[31mLocalProtocolError\u001B[39m                        Traceback (most recent call last)",
      "\u001B[36mFile \u001B[39m\u001B[32m/opt/anaconda3/envs/gmail_events/lib/python3.12/site-packages/httpcore/_exceptions.py:10\u001B[39m, in \u001B[36mmap_exceptions\u001B[39m\u001B[34m(map)\u001B[39m\n\u001B[32m      9\u001B[39m \u001B[38;5;28;01mtry\u001B[39;00m:\n\u001B[32m---> \u001B[39m\u001B[32m10\u001B[39m     \u001B[38;5;28;01myield\u001B[39;00m\n\u001B[32m     11\u001B[39m \u001B[38;5;28;01mexcept\u001B[39;00m \u001B[38;5;167;01mException\u001B[39;00m \u001B[38;5;28;01mas\u001B[39;00m exc:  \u001B[38;5;66;03m# noqa: PIE786\u001B[39;00m\n",
      "\u001B[36mFile \u001B[39m\u001B[32m/opt/anaconda3/envs/gmail_events/lib/python3.12/site-packages/httpcore/_sync/http11.py:142\u001B[39m, in \u001B[36mHTTP11Connection._send_request_headers\u001B[39m\u001B[34m(self, request)\u001B[39m\n\u001B[32m    141\u001B[39m \u001B[38;5;28;01mwith\u001B[39;00m map_exceptions({h11.LocalProtocolError: LocalProtocolError}):\n\u001B[32m--> \u001B[39m\u001B[32m142\u001B[39m     event = h11.Request(\n\u001B[32m    143\u001B[39m         method=request.method,\n\u001B[32m    144\u001B[39m         target=request.url.target,\n\u001B[32m    145\u001B[39m         headers=request.headers,\n\u001B[32m    146\u001B[39m     )\n\u001B[32m    147\u001B[39m \u001B[38;5;28mself\u001B[39m._send_event(event, timeout=timeout)\n",
      "\u001B[36mFile \u001B[39m\u001B[32m/opt/anaconda3/envs/gmail_events/lib/python3.12/site-packages/h11/_events.py:96\u001B[39m, in \u001B[36mRequest.__init__\u001B[39m\u001B[34m(self, method, headers, target, http_version, _parsed)\u001B[39m\n\u001B[32m     94\u001B[39m \u001B[38;5;28;01melse\u001B[39;00m:\n\u001B[32m     95\u001B[39m     \u001B[38;5;28mobject\u001B[39m.\u001B[34m__setattr__\u001B[39m(\n\u001B[32m---> \u001B[39m\u001B[32m96\u001B[39m         \u001B[38;5;28mself\u001B[39m, \u001B[33m\"\u001B[39m\u001B[33mheaders\u001B[39m\u001B[33m\"\u001B[39m, normalize_and_validate(headers, _parsed=_parsed)\n\u001B[32m     97\u001B[39m     )\n\u001B[32m     98\u001B[39m \u001B[38;5;28;01mif\u001B[39;00m \u001B[38;5;129;01mnot\u001B[39;00m _parsed:\n",
      "\u001B[36mFile \u001B[39m\u001B[32m/opt/anaconda3/envs/gmail_events/lib/python3.12/site-packages/h11/_headers.py:164\u001B[39m, in \u001B[36mnormalize_and_validate\u001B[39m\u001B[34m(headers, _parsed)\u001B[39m\n\u001B[32m    163\u001B[39m     validate(_field_name_re, name, \u001B[33m\"\u001B[39m\u001B[33mIllegal header name \u001B[39m\u001B[38;5;132;01m{!r}\u001B[39;00m\u001B[33m\"\u001B[39m, name)\n\u001B[32m--> \u001B[39m\u001B[32m164\u001B[39m     validate(_field_value_re, value, \u001B[33m\"\u001B[39m\u001B[33mIllegal header value \u001B[39m\u001B[38;5;132;01m{!r}\u001B[39;00m\u001B[33m\"\u001B[39m, value)\n\u001B[32m    165\u001B[39m \u001B[38;5;28;01massert\u001B[39;00m \u001B[38;5;28misinstance\u001B[39m(name, \u001B[38;5;28mbytes\u001B[39m)\n",
      "\u001B[36mFile \u001B[39m\u001B[32m/opt/anaconda3/envs/gmail_events/lib/python3.12/site-packages/h11/_util.py:91\u001B[39m, in \u001B[36mvalidate\u001B[39m\u001B[34m(regex, data, msg, *format_args)\u001B[39m\n\u001B[32m     90\u001B[39m         msg = msg.format(*format_args)\n\u001B[32m---> \u001B[39m\u001B[32m91\u001B[39m     \u001B[38;5;28;01mraise\u001B[39;00m LocalProtocolError(msg)\n\u001B[32m     92\u001B[39m \u001B[38;5;28;01mreturn\u001B[39;00m match.groupdict()\n",
      "\u001B[31mLocalProtocolError\u001B[39m: Illegal header value b'Bearer sk-iBMRe6osguGlEPBF6QQNEQ '",
      "\nThe above exception was the direct cause of the following exception:\n",
      "\u001B[31mLocalProtocolError\u001B[39m                        Traceback (most recent call last)",
      "\u001B[36mFile \u001B[39m\u001B[32m/opt/anaconda3/envs/gmail_events/lib/python3.12/site-packages/httpx/_transports/default.py:69\u001B[39m, in \u001B[36mmap_httpcore_exceptions\u001B[39m\u001B[34m()\u001B[39m\n\u001B[32m     68\u001B[39m \u001B[38;5;28;01mtry\u001B[39;00m:\n\u001B[32m---> \u001B[39m\u001B[32m69\u001B[39m     \u001B[38;5;28;01myield\u001B[39;00m\n\u001B[32m     70\u001B[39m \u001B[38;5;28;01mexcept\u001B[39;00m \u001B[38;5;167;01mException\u001B[39;00m \u001B[38;5;28;01mas\u001B[39;00m exc:\n",
      "\u001B[36mFile \u001B[39m\u001B[32m/opt/anaconda3/envs/gmail_events/lib/python3.12/site-packages/httpx/_transports/default.py:233\u001B[39m, in \u001B[36mHTTPTransport.handle_request\u001B[39m\u001B[34m(self, request)\u001B[39m\n\u001B[32m    232\u001B[39m \u001B[38;5;28;01mwith\u001B[39;00m map_httpcore_exceptions():\n\u001B[32m--> \u001B[39m\u001B[32m233\u001B[39m     resp = \u001B[38;5;28mself\u001B[39m._pool.handle_request(req)\n\u001B[32m    235\u001B[39m \u001B[38;5;28;01massert\u001B[39;00m \u001B[38;5;28misinstance\u001B[39m(resp.stream, typing.Iterable)\n",
      "\u001B[36mFile \u001B[39m\u001B[32m/opt/anaconda3/envs/gmail_events/lib/python3.12/site-packages/httpcore/_sync/connection_pool.py:268\u001B[39m, in \u001B[36mConnectionPool.handle_request\u001B[39m\u001B[34m(self, request)\u001B[39m\n\u001B[32m    267\u001B[39m         \u001B[38;5;28mself\u001B[39m.response_closed(status)\n\u001B[32m--> \u001B[39m\u001B[32m268\u001B[39m     \u001B[38;5;28;01mraise\u001B[39;00m exc\n\u001B[32m    269\u001B[39m \u001B[38;5;28;01melse\u001B[39;00m:\n",
      "\u001B[36mFile \u001B[39m\u001B[32m/opt/anaconda3/envs/gmail_events/lib/python3.12/site-packages/httpcore/_sync/connection_pool.py:251\u001B[39m, in \u001B[36mConnectionPool.handle_request\u001B[39m\u001B[34m(self, request)\u001B[39m\n\u001B[32m    250\u001B[39m \u001B[38;5;28;01mtry\u001B[39;00m:\n\u001B[32m--> \u001B[39m\u001B[32m251\u001B[39m     response = connection.handle_request(request)\n\u001B[32m    252\u001B[39m \u001B[38;5;28;01mexcept\u001B[39;00m ConnectionNotAvailable:\n\u001B[32m    253\u001B[39m     \u001B[38;5;66;03m# The ConnectionNotAvailable exception is a special case, that\u001B[39;00m\n\u001B[32m    254\u001B[39m     \u001B[38;5;66;03m# indicates we need to retry the request on a new connection.\u001B[39;00m\n\u001B[32m   (...)\u001B[39m\u001B[32m    258\u001B[39m     \u001B[38;5;66;03m# might end up as an HTTP/2 connection, but which actually ends\u001B[39;00m\n\u001B[32m    259\u001B[39m     \u001B[38;5;66;03m# up as HTTP/1.1.\u001B[39;00m\n",
      "\u001B[36mFile \u001B[39m\u001B[32m/opt/anaconda3/envs/gmail_events/lib/python3.12/site-packages/httpcore/_sync/connection.py:103\u001B[39m, in \u001B[36mHTTPConnection.handle_request\u001B[39m\u001B[34m(self, request)\u001B[39m\n\u001B[32m    101\u001B[39m         \u001B[38;5;28;01mraise\u001B[39;00m ConnectionNotAvailable()\n\u001B[32m--> \u001B[39m\u001B[32m103\u001B[39m \u001B[38;5;28;01mreturn\u001B[39;00m \u001B[38;5;28mself\u001B[39m._connection.handle_request(request)\n",
      "\u001B[36mFile \u001B[39m\u001B[32m/opt/anaconda3/envs/gmail_events/lib/python3.12/site-packages/httpcore/_sync/http11.py:133\u001B[39m, in \u001B[36mHTTP11Connection.handle_request\u001B[39m\u001B[34m(self, request)\u001B[39m\n\u001B[32m    132\u001B[39m         \u001B[38;5;28mself\u001B[39m._response_closed()\n\u001B[32m--> \u001B[39m\u001B[32m133\u001B[39m \u001B[38;5;28;01mraise\u001B[39;00m exc\n",
      "\u001B[36mFile \u001B[39m\u001B[32m/opt/anaconda3/envs/gmail_events/lib/python3.12/site-packages/httpcore/_sync/http11.py:92\u001B[39m, in \u001B[36mHTTP11Connection.handle_request\u001B[39m\u001B[34m(self, request)\u001B[39m\n\u001B[32m     89\u001B[39m \u001B[38;5;28;01mwith\u001B[39;00m Trace(\n\u001B[32m     90\u001B[39m     \u001B[33m\"\u001B[39m\u001B[33msend_request_headers\u001B[39m\u001B[33m\"\u001B[39m, logger, request, kwargs\n\u001B[32m     91\u001B[39m ) \u001B[38;5;28;01mas\u001B[39;00m trace:\n\u001B[32m---> \u001B[39m\u001B[32m92\u001B[39m     \u001B[38;5;28mself\u001B[39m._send_request_headers(**kwargs)\n\u001B[32m     93\u001B[39m \u001B[38;5;28;01mwith\u001B[39;00m Trace(\u001B[33m\"\u001B[39m\u001B[33msend_request_body\u001B[39m\u001B[33m\"\u001B[39m, logger, request, kwargs) \u001B[38;5;28;01mas\u001B[39;00m trace:\n",
      "\u001B[36mFile \u001B[39m\u001B[32m/opt/anaconda3/envs/gmail_events/lib/python3.12/site-packages/httpcore/_sync/http11.py:141\u001B[39m, in \u001B[36mHTTP11Connection._send_request_headers\u001B[39m\u001B[34m(self, request)\u001B[39m\n\u001B[32m    139\u001B[39m timeout = timeouts.get(\u001B[33m\"\u001B[39m\u001B[33mwrite\u001B[39m\u001B[33m\"\u001B[39m, \u001B[38;5;28;01mNone\u001B[39;00m)\n\u001B[32m--> \u001B[39m\u001B[32m141\u001B[39m \u001B[38;5;28;01mwith\u001B[39;00m map_exceptions({h11.LocalProtocolError: LocalProtocolError}):\n\u001B[32m    142\u001B[39m     event = h11.Request(\n\u001B[32m    143\u001B[39m         method=request.method,\n\u001B[32m    144\u001B[39m         target=request.url.target,\n\u001B[32m    145\u001B[39m         headers=request.headers,\n\u001B[32m    146\u001B[39m     )\n",
      "\u001B[36mFile \u001B[39m\u001B[32m/opt/anaconda3/envs/gmail_events/lib/python3.12/contextlib.py:158\u001B[39m, in \u001B[36m_GeneratorContextManager.__exit__\u001B[39m\u001B[34m(self, typ, value, traceback)\u001B[39m\n\u001B[32m    157\u001B[39m \u001B[38;5;28;01mtry\u001B[39;00m:\n\u001B[32m--> \u001B[39m\u001B[32m158\u001B[39m     \u001B[38;5;28mself\u001B[39m.gen.throw(value)\n\u001B[32m    159\u001B[39m \u001B[38;5;28;01mexcept\u001B[39;00m \u001B[38;5;167;01mStopIteration\u001B[39;00m \u001B[38;5;28;01mas\u001B[39;00m exc:\n\u001B[32m    160\u001B[39m     \u001B[38;5;66;03m# Suppress StopIteration *unless* it's the same exception that\u001B[39;00m\n\u001B[32m    161\u001B[39m     \u001B[38;5;66;03m# was passed to throw().  This prevents a StopIteration\u001B[39;00m\n\u001B[32m    162\u001B[39m     \u001B[38;5;66;03m# raised inside the \"with\" statement from being suppressed.\u001B[39;00m\n",
      "\u001B[36mFile \u001B[39m\u001B[32m/opt/anaconda3/envs/gmail_events/lib/python3.12/site-packages/httpcore/_exceptions.py:14\u001B[39m, in \u001B[36mmap_exceptions\u001B[39m\u001B[34m(map)\u001B[39m\n\u001B[32m     13\u001B[39m     \u001B[38;5;28;01mif\u001B[39;00m \u001B[38;5;28misinstance\u001B[39m(exc, from_exc):\n\u001B[32m---> \u001B[39m\u001B[32m14\u001B[39m         \u001B[38;5;28;01mraise\u001B[39;00m to_exc(exc) \u001B[38;5;28;01mfrom\u001B[39;00m\u001B[38;5;250m \u001B[39m\u001B[34;01mexc\u001B[39;00m\n\u001B[32m     15\u001B[39m \u001B[38;5;28;01mraise\u001B[39;00m\n",
      "\u001B[31mLocalProtocolError\u001B[39m: Illegal header value b'Bearer sk-iBMRe6osguGlEPBF6QQNEQ '",
      "\nThe above exception was the direct cause of the following exception:\n",
      "\u001B[31mLocalProtocolError\u001B[39m                        Traceback (most recent call last)",
      "\u001B[36mFile \u001B[39m\u001B[32m/opt/anaconda3/envs/gmail_events/lib/python3.12/site-packages/openai/_base_client.py:996\u001B[39m, in \u001B[36mSyncAPIClient._request\u001B[39m\u001B[34m(self, cast_to, options, retries_taken, stream, stream_cls)\u001B[39m\n\u001B[32m    995\u001B[39m \u001B[38;5;28;01mtry\u001B[39;00m:\n\u001B[32m--> \u001B[39m\u001B[32m996\u001B[39m     response = \u001B[38;5;28mself\u001B[39m._client.send(\n\u001B[32m    997\u001B[39m         request,\n\u001B[32m    998\u001B[39m         stream=stream \u001B[38;5;129;01mor\u001B[39;00m \u001B[38;5;28mself\u001B[39m._should_stream_response_body(request=request),\n\u001B[32m    999\u001B[39m         **kwargs,\n\u001B[32m   1000\u001B[39m     )\n\u001B[32m   1001\u001B[39m \u001B[38;5;28;01mexcept\u001B[39;00m httpx.TimeoutException \u001B[38;5;28;01mas\u001B[39;00m err:\n",
      "\u001B[36mFile \u001B[39m\u001B[32m/opt/anaconda3/envs/gmail_events/lib/python3.12/site-packages/httpx/_client.py:914\u001B[39m, in \u001B[36mClient.send\u001B[39m\u001B[34m(self, request, stream, auth, follow_redirects)\u001B[39m\n\u001B[32m    912\u001B[39m auth = \u001B[38;5;28mself\u001B[39m._build_request_auth(request, auth)\n\u001B[32m--> \u001B[39m\u001B[32m914\u001B[39m response = \u001B[38;5;28mself\u001B[39m._send_handling_auth(\n\u001B[32m    915\u001B[39m     request,\n\u001B[32m    916\u001B[39m     auth=auth,\n\u001B[32m    917\u001B[39m     follow_redirects=follow_redirects,\n\u001B[32m    918\u001B[39m     history=[],\n\u001B[32m    919\u001B[39m )\n\u001B[32m    920\u001B[39m \u001B[38;5;28;01mtry\u001B[39;00m:\n",
      "\u001B[36mFile \u001B[39m\u001B[32m/opt/anaconda3/envs/gmail_events/lib/python3.12/site-packages/httpx/_client.py:942\u001B[39m, in \u001B[36mClient._send_handling_auth\u001B[39m\u001B[34m(self, request, auth, follow_redirects, history)\u001B[39m\n\u001B[32m    941\u001B[39m \u001B[38;5;28;01mwhile\u001B[39;00m \u001B[38;5;28;01mTrue\u001B[39;00m:\n\u001B[32m--> \u001B[39m\u001B[32m942\u001B[39m     response = \u001B[38;5;28mself\u001B[39m._send_handling_redirects(\n\u001B[32m    943\u001B[39m         request,\n\u001B[32m    944\u001B[39m         follow_redirects=follow_redirects,\n\u001B[32m    945\u001B[39m         history=history,\n\u001B[32m    946\u001B[39m     )\n\u001B[32m    947\u001B[39m     \u001B[38;5;28;01mtry\u001B[39;00m:\n",
      "\u001B[36mFile \u001B[39m\u001B[32m/opt/anaconda3/envs/gmail_events/lib/python3.12/site-packages/httpx/_client.py:979\u001B[39m, in \u001B[36mClient._send_handling_redirects\u001B[39m\u001B[34m(self, request, follow_redirects, history)\u001B[39m\n\u001B[32m    977\u001B[39m     hook(request)\n\u001B[32m--> \u001B[39m\u001B[32m979\u001B[39m response = \u001B[38;5;28mself\u001B[39m._send_single_request(request)\n\u001B[32m    980\u001B[39m \u001B[38;5;28;01mtry\u001B[39;00m:\n",
      "\u001B[36mFile \u001B[39m\u001B[32m/opt/anaconda3/envs/gmail_events/lib/python3.12/site-packages/httpx/_client.py:1015\u001B[39m, in \u001B[36mClient._send_single_request\u001B[39m\u001B[34m(self, request)\u001B[39m\n\u001B[32m   1014\u001B[39m \u001B[38;5;28;01mwith\u001B[39;00m request_context(request=request):\n\u001B[32m-> \u001B[39m\u001B[32m1015\u001B[39m     response = transport.handle_request(request)\n\u001B[32m   1017\u001B[39m \u001B[38;5;28;01massert\u001B[39;00m \u001B[38;5;28misinstance\u001B[39m(response.stream, SyncByteStream)\n",
      "\u001B[36mFile \u001B[39m\u001B[32m/opt/anaconda3/envs/gmail_events/lib/python3.12/site-packages/httpx/_transports/default.py:232\u001B[39m, in \u001B[36mHTTPTransport.handle_request\u001B[39m\u001B[34m(self, request)\u001B[39m\n\u001B[32m    220\u001B[39m req = httpcore.Request(\n\u001B[32m    221\u001B[39m     method=request.method,\n\u001B[32m    222\u001B[39m     url=httpcore.URL(\n\u001B[32m   (...)\u001B[39m\u001B[32m    230\u001B[39m     extensions=request.extensions,\n\u001B[32m    231\u001B[39m )\n\u001B[32m--> \u001B[39m\u001B[32m232\u001B[39m \u001B[38;5;28;01mwith\u001B[39;00m map_httpcore_exceptions():\n\u001B[32m    233\u001B[39m     resp = \u001B[38;5;28mself\u001B[39m._pool.handle_request(req)\n",
      "\u001B[36mFile \u001B[39m\u001B[32m/opt/anaconda3/envs/gmail_events/lib/python3.12/contextlib.py:158\u001B[39m, in \u001B[36m_GeneratorContextManager.__exit__\u001B[39m\u001B[34m(self, typ, value, traceback)\u001B[39m\n\u001B[32m    157\u001B[39m \u001B[38;5;28;01mtry\u001B[39;00m:\n\u001B[32m--> \u001B[39m\u001B[32m158\u001B[39m     \u001B[38;5;28mself\u001B[39m.gen.throw(value)\n\u001B[32m    159\u001B[39m \u001B[38;5;28;01mexcept\u001B[39;00m \u001B[38;5;167;01mStopIteration\u001B[39;00m \u001B[38;5;28;01mas\u001B[39;00m exc:\n\u001B[32m    160\u001B[39m     \u001B[38;5;66;03m# Suppress StopIteration *unless* it's the same exception that\u001B[39;00m\n\u001B[32m    161\u001B[39m     \u001B[38;5;66;03m# was passed to throw().  This prevents a StopIteration\u001B[39;00m\n\u001B[32m    162\u001B[39m     \u001B[38;5;66;03m# raised inside the \"with\" statement from being suppressed.\u001B[39;00m\n",
      "\u001B[36mFile \u001B[39m\u001B[32m/opt/anaconda3/envs/gmail_events/lib/python3.12/site-packages/httpx/_transports/default.py:86\u001B[39m, in \u001B[36mmap_httpcore_exceptions\u001B[39m\u001B[34m()\u001B[39m\n\u001B[32m     85\u001B[39m message = \u001B[38;5;28mstr\u001B[39m(exc)\n\u001B[32m---> \u001B[39m\u001B[32m86\u001B[39m \u001B[38;5;28;01mraise\u001B[39;00m mapped_exc(message) \u001B[38;5;28;01mfrom\u001B[39;00m\u001B[38;5;250m \u001B[39m\u001B[34;01mexc\u001B[39;00m\n",
      "\u001B[31mLocalProtocolError\u001B[39m: Illegal header value b'Bearer sk-iBMRe6osguGlEPBF6QQNEQ '",
      "\nDuring handling of the above exception, another exception occurred:\n",
      "\u001B[31mLocalProtocolError\u001B[39m                        Traceback (most recent call last)",
      "\u001B[36mFile \u001B[39m\u001B[32m/opt/anaconda3/envs/gmail_events/lib/python3.12/site-packages/httpcore/_exceptions.py:10\u001B[39m, in \u001B[36mmap_exceptions\u001B[39m\u001B[34m(map)\u001B[39m\n\u001B[32m      9\u001B[39m \u001B[38;5;28;01mtry\u001B[39;00m:\n\u001B[32m---> \u001B[39m\u001B[32m10\u001B[39m     \u001B[38;5;28;01myield\u001B[39;00m\n\u001B[32m     11\u001B[39m \u001B[38;5;28;01mexcept\u001B[39;00m \u001B[38;5;167;01mException\u001B[39;00m \u001B[38;5;28;01mas\u001B[39;00m exc:  \u001B[38;5;66;03m# noqa: PIE786\u001B[39;00m\n",
      "\u001B[36mFile \u001B[39m\u001B[32m/opt/anaconda3/envs/gmail_events/lib/python3.12/site-packages/httpcore/_sync/http11.py:142\u001B[39m, in \u001B[36mHTTP11Connection._send_request_headers\u001B[39m\u001B[34m(self, request)\u001B[39m\n\u001B[32m    141\u001B[39m \u001B[38;5;28;01mwith\u001B[39;00m map_exceptions({h11.LocalProtocolError: LocalProtocolError}):\n\u001B[32m--> \u001B[39m\u001B[32m142\u001B[39m     event = h11.Request(\n\u001B[32m    143\u001B[39m         method=request.method,\n\u001B[32m    144\u001B[39m         target=request.url.target,\n\u001B[32m    145\u001B[39m         headers=request.headers,\n\u001B[32m    146\u001B[39m     )\n\u001B[32m    147\u001B[39m \u001B[38;5;28mself\u001B[39m._send_event(event, timeout=timeout)\n",
      "\u001B[36mFile \u001B[39m\u001B[32m/opt/anaconda3/envs/gmail_events/lib/python3.12/site-packages/h11/_events.py:96\u001B[39m, in \u001B[36mRequest.__init__\u001B[39m\u001B[34m(self, method, headers, target, http_version, _parsed)\u001B[39m\n\u001B[32m     94\u001B[39m \u001B[38;5;28;01melse\u001B[39;00m:\n\u001B[32m     95\u001B[39m     \u001B[38;5;28mobject\u001B[39m.\u001B[34m__setattr__\u001B[39m(\n\u001B[32m---> \u001B[39m\u001B[32m96\u001B[39m         \u001B[38;5;28mself\u001B[39m, \u001B[33m\"\u001B[39m\u001B[33mheaders\u001B[39m\u001B[33m\"\u001B[39m, normalize_and_validate(headers, _parsed=_parsed)\n\u001B[32m     97\u001B[39m     )\n\u001B[32m     98\u001B[39m \u001B[38;5;28;01mif\u001B[39;00m \u001B[38;5;129;01mnot\u001B[39;00m _parsed:\n",
      "\u001B[36mFile \u001B[39m\u001B[32m/opt/anaconda3/envs/gmail_events/lib/python3.12/site-packages/h11/_headers.py:164\u001B[39m, in \u001B[36mnormalize_and_validate\u001B[39m\u001B[34m(headers, _parsed)\u001B[39m\n\u001B[32m    163\u001B[39m     validate(_field_name_re, name, \u001B[33m\"\u001B[39m\u001B[33mIllegal header name \u001B[39m\u001B[38;5;132;01m{!r}\u001B[39;00m\u001B[33m\"\u001B[39m, name)\n\u001B[32m--> \u001B[39m\u001B[32m164\u001B[39m     validate(_field_value_re, value, \u001B[33m\"\u001B[39m\u001B[33mIllegal header value \u001B[39m\u001B[38;5;132;01m{!r}\u001B[39;00m\u001B[33m\"\u001B[39m, value)\n\u001B[32m    165\u001B[39m \u001B[38;5;28;01massert\u001B[39;00m \u001B[38;5;28misinstance\u001B[39m(name, \u001B[38;5;28mbytes\u001B[39m)\n",
      "\u001B[36mFile \u001B[39m\u001B[32m/opt/anaconda3/envs/gmail_events/lib/python3.12/site-packages/h11/_util.py:91\u001B[39m, in \u001B[36mvalidate\u001B[39m\u001B[34m(regex, data, msg, *format_args)\u001B[39m\n\u001B[32m     90\u001B[39m         msg = msg.format(*format_args)\n\u001B[32m---> \u001B[39m\u001B[32m91\u001B[39m     \u001B[38;5;28;01mraise\u001B[39;00m LocalProtocolError(msg)\n\u001B[32m     92\u001B[39m \u001B[38;5;28;01mreturn\u001B[39;00m match.groupdict()\n",
      "\u001B[31mLocalProtocolError\u001B[39m: Illegal header value b'Bearer sk-iBMRe6osguGlEPBF6QQNEQ '",
      "\nThe above exception was the direct cause of the following exception:\n",
      "\u001B[31mLocalProtocolError\u001B[39m                        Traceback (most recent call last)",
      "\u001B[36mFile \u001B[39m\u001B[32m/opt/anaconda3/envs/gmail_events/lib/python3.12/site-packages/httpx/_transports/default.py:69\u001B[39m, in \u001B[36mmap_httpcore_exceptions\u001B[39m\u001B[34m()\u001B[39m\n\u001B[32m     68\u001B[39m \u001B[38;5;28;01mtry\u001B[39;00m:\n\u001B[32m---> \u001B[39m\u001B[32m69\u001B[39m     \u001B[38;5;28;01myield\u001B[39;00m\n\u001B[32m     70\u001B[39m \u001B[38;5;28;01mexcept\u001B[39;00m \u001B[38;5;167;01mException\u001B[39;00m \u001B[38;5;28;01mas\u001B[39;00m exc:\n",
      "\u001B[36mFile \u001B[39m\u001B[32m/opt/anaconda3/envs/gmail_events/lib/python3.12/site-packages/httpx/_transports/default.py:233\u001B[39m, in \u001B[36mHTTPTransport.handle_request\u001B[39m\u001B[34m(self, request)\u001B[39m\n\u001B[32m    232\u001B[39m \u001B[38;5;28;01mwith\u001B[39;00m map_httpcore_exceptions():\n\u001B[32m--> \u001B[39m\u001B[32m233\u001B[39m     resp = \u001B[38;5;28mself\u001B[39m._pool.handle_request(req)\n\u001B[32m    235\u001B[39m \u001B[38;5;28;01massert\u001B[39;00m \u001B[38;5;28misinstance\u001B[39m(resp.stream, typing.Iterable)\n",
      "\u001B[36mFile \u001B[39m\u001B[32m/opt/anaconda3/envs/gmail_events/lib/python3.12/site-packages/httpcore/_sync/connection_pool.py:268\u001B[39m, in \u001B[36mConnectionPool.handle_request\u001B[39m\u001B[34m(self, request)\u001B[39m\n\u001B[32m    267\u001B[39m         \u001B[38;5;28mself\u001B[39m.response_closed(status)\n\u001B[32m--> \u001B[39m\u001B[32m268\u001B[39m     \u001B[38;5;28;01mraise\u001B[39;00m exc\n\u001B[32m    269\u001B[39m \u001B[38;5;28;01melse\u001B[39;00m:\n",
      "\u001B[36mFile \u001B[39m\u001B[32m/opt/anaconda3/envs/gmail_events/lib/python3.12/site-packages/httpcore/_sync/connection_pool.py:251\u001B[39m, in \u001B[36mConnectionPool.handle_request\u001B[39m\u001B[34m(self, request)\u001B[39m\n\u001B[32m    250\u001B[39m \u001B[38;5;28;01mtry\u001B[39;00m:\n\u001B[32m--> \u001B[39m\u001B[32m251\u001B[39m     response = connection.handle_request(request)\n\u001B[32m    252\u001B[39m \u001B[38;5;28;01mexcept\u001B[39;00m ConnectionNotAvailable:\n\u001B[32m    253\u001B[39m     \u001B[38;5;66;03m# The ConnectionNotAvailable exception is a special case, that\u001B[39;00m\n\u001B[32m    254\u001B[39m     \u001B[38;5;66;03m# indicates we need to retry the request on a new connection.\u001B[39;00m\n\u001B[32m   (...)\u001B[39m\u001B[32m    258\u001B[39m     \u001B[38;5;66;03m# might end up as an HTTP/2 connection, but which actually ends\u001B[39;00m\n\u001B[32m    259\u001B[39m     \u001B[38;5;66;03m# up as HTTP/1.1.\u001B[39;00m\n",
      "\u001B[36mFile \u001B[39m\u001B[32m/opt/anaconda3/envs/gmail_events/lib/python3.12/site-packages/httpcore/_sync/connection.py:103\u001B[39m, in \u001B[36mHTTPConnection.handle_request\u001B[39m\u001B[34m(self, request)\u001B[39m\n\u001B[32m    101\u001B[39m         \u001B[38;5;28;01mraise\u001B[39;00m ConnectionNotAvailable()\n\u001B[32m--> \u001B[39m\u001B[32m103\u001B[39m \u001B[38;5;28;01mreturn\u001B[39;00m \u001B[38;5;28mself\u001B[39m._connection.handle_request(request)\n",
      "\u001B[36mFile \u001B[39m\u001B[32m/opt/anaconda3/envs/gmail_events/lib/python3.12/site-packages/httpcore/_sync/http11.py:133\u001B[39m, in \u001B[36mHTTP11Connection.handle_request\u001B[39m\u001B[34m(self, request)\u001B[39m\n\u001B[32m    132\u001B[39m         \u001B[38;5;28mself\u001B[39m._response_closed()\n\u001B[32m--> \u001B[39m\u001B[32m133\u001B[39m \u001B[38;5;28;01mraise\u001B[39;00m exc\n",
      "\u001B[36mFile \u001B[39m\u001B[32m/opt/anaconda3/envs/gmail_events/lib/python3.12/site-packages/httpcore/_sync/http11.py:92\u001B[39m, in \u001B[36mHTTP11Connection.handle_request\u001B[39m\u001B[34m(self, request)\u001B[39m\n\u001B[32m     89\u001B[39m \u001B[38;5;28;01mwith\u001B[39;00m Trace(\n\u001B[32m     90\u001B[39m     \u001B[33m\"\u001B[39m\u001B[33msend_request_headers\u001B[39m\u001B[33m\"\u001B[39m, logger, request, kwargs\n\u001B[32m     91\u001B[39m ) \u001B[38;5;28;01mas\u001B[39;00m trace:\n\u001B[32m---> \u001B[39m\u001B[32m92\u001B[39m     \u001B[38;5;28mself\u001B[39m._send_request_headers(**kwargs)\n\u001B[32m     93\u001B[39m \u001B[38;5;28;01mwith\u001B[39;00m Trace(\u001B[33m\"\u001B[39m\u001B[33msend_request_body\u001B[39m\u001B[33m\"\u001B[39m, logger, request, kwargs) \u001B[38;5;28;01mas\u001B[39;00m trace:\n",
      "\u001B[36mFile \u001B[39m\u001B[32m/opt/anaconda3/envs/gmail_events/lib/python3.12/site-packages/httpcore/_sync/http11.py:141\u001B[39m, in \u001B[36mHTTP11Connection._send_request_headers\u001B[39m\u001B[34m(self, request)\u001B[39m\n\u001B[32m    139\u001B[39m timeout = timeouts.get(\u001B[33m\"\u001B[39m\u001B[33mwrite\u001B[39m\u001B[33m\"\u001B[39m, \u001B[38;5;28;01mNone\u001B[39;00m)\n\u001B[32m--> \u001B[39m\u001B[32m141\u001B[39m \u001B[38;5;28;01mwith\u001B[39;00m map_exceptions({h11.LocalProtocolError: LocalProtocolError}):\n\u001B[32m    142\u001B[39m     event = h11.Request(\n\u001B[32m    143\u001B[39m         method=request.method,\n\u001B[32m    144\u001B[39m         target=request.url.target,\n\u001B[32m    145\u001B[39m         headers=request.headers,\n\u001B[32m    146\u001B[39m     )\n",
      "\u001B[36mFile \u001B[39m\u001B[32m/opt/anaconda3/envs/gmail_events/lib/python3.12/contextlib.py:158\u001B[39m, in \u001B[36m_GeneratorContextManager.__exit__\u001B[39m\u001B[34m(self, typ, value, traceback)\u001B[39m\n\u001B[32m    157\u001B[39m \u001B[38;5;28;01mtry\u001B[39;00m:\n\u001B[32m--> \u001B[39m\u001B[32m158\u001B[39m     \u001B[38;5;28mself\u001B[39m.gen.throw(value)\n\u001B[32m    159\u001B[39m \u001B[38;5;28;01mexcept\u001B[39;00m \u001B[38;5;167;01mStopIteration\u001B[39;00m \u001B[38;5;28;01mas\u001B[39;00m exc:\n\u001B[32m    160\u001B[39m     \u001B[38;5;66;03m# Suppress StopIteration *unless* it's the same exception that\u001B[39;00m\n\u001B[32m    161\u001B[39m     \u001B[38;5;66;03m# was passed to throw().  This prevents a StopIteration\u001B[39;00m\n\u001B[32m    162\u001B[39m     \u001B[38;5;66;03m# raised inside the \"with\" statement from being suppressed.\u001B[39;00m\n",
      "\u001B[36mFile \u001B[39m\u001B[32m/opt/anaconda3/envs/gmail_events/lib/python3.12/site-packages/httpcore/_exceptions.py:14\u001B[39m, in \u001B[36mmap_exceptions\u001B[39m\u001B[34m(map)\u001B[39m\n\u001B[32m     13\u001B[39m     \u001B[38;5;28;01mif\u001B[39;00m \u001B[38;5;28misinstance\u001B[39m(exc, from_exc):\n\u001B[32m---> \u001B[39m\u001B[32m14\u001B[39m         \u001B[38;5;28;01mraise\u001B[39;00m to_exc(exc) \u001B[38;5;28;01mfrom\u001B[39;00m\u001B[38;5;250m \u001B[39m\u001B[34;01mexc\u001B[39;00m\n\u001B[32m     15\u001B[39m \u001B[38;5;28;01mraise\u001B[39;00m\n",
      "\u001B[31mLocalProtocolError\u001B[39m: Illegal header value b'Bearer sk-iBMRe6osguGlEPBF6QQNEQ '",
      "\nThe above exception was the direct cause of the following exception:\n",
      "\u001B[31mLocalProtocolError\u001B[39m                        Traceback (most recent call last)",
      "\u001B[36mFile \u001B[39m\u001B[32m/opt/anaconda3/envs/gmail_events/lib/python3.12/site-packages/openai/_base_client.py:996\u001B[39m, in \u001B[36mSyncAPIClient._request\u001B[39m\u001B[34m(self, cast_to, options, retries_taken, stream, stream_cls)\u001B[39m\n\u001B[32m    995\u001B[39m \u001B[38;5;28;01mtry\u001B[39;00m:\n\u001B[32m--> \u001B[39m\u001B[32m996\u001B[39m     response = \u001B[38;5;28mself\u001B[39m._client.send(\n\u001B[32m    997\u001B[39m         request,\n\u001B[32m    998\u001B[39m         stream=stream \u001B[38;5;129;01mor\u001B[39;00m \u001B[38;5;28mself\u001B[39m._should_stream_response_body(request=request),\n\u001B[32m    999\u001B[39m         **kwargs,\n\u001B[32m   1000\u001B[39m     )\n\u001B[32m   1001\u001B[39m \u001B[38;5;28;01mexcept\u001B[39;00m httpx.TimeoutException \u001B[38;5;28;01mas\u001B[39;00m err:\n",
      "\u001B[36mFile \u001B[39m\u001B[32m/opt/anaconda3/envs/gmail_events/lib/python3.12/site-packages/httpx/_client.py:914\u001B[39m, in \u001B[36mClient.send\u001B[39m\u001B[34m(self, request, stream, auth, follow_redirects)\u001B[39m\n\u001B[32m    912\u001B[39m auth = \u001B[38;5;28mself\u001B[39m._build_request_auth(request, auth)\n\u001B[32m--> \u001B[39m\u001B[32m914\u001B[39m response = \u001B[38;5;28mself\u001B[39m._send_handling_auth(\n\u001B[32m    915\u001B[39m     request,\n\u001B[32m    916\u001B[39m     auth=auth,\n\u001B[32m    917\u001B[39m     follow_redirects=follow_redirects,\n\u001B[32m    918\u001B[39m     history=[],\n\u001B[32m    919\u001B[39m )\n\u001B[32m    920\u001B[39m \u001B[38;5;28;01mtry\u001B[39;00m:\n",
      "\u001B[36mFile \u001B[39m\u001B[32m/opt/anaconda3/envs/gmail_events/lib/python3.12/site-packages/httpx/_client.py:942\u001B[39m, in \u001B[36mClient._send_handling_auth\u001B[39m\u001B[34m(self, request, auth, follow_redirects, history)\u001B[39m\n\u001B[32m    941\u001B[39m \u001B[38;5;28;01mwhile\u001B[39;00m \u001B[38;5;28;01mTrue\u001B[39;00m:\n\u001B[32m--> \u001B[39m\u001B[32m942\u001B[39m     response = \u001B[38;5;28mself\u001B[39m._send_handling_redirects(\n\u001B[32m    943\u001B[39m         request,\n\u001B[32m    944\u001B[39m         follow_redirects=follow_redirects,\n\u001B[32m    945\u001B[39m         history=history,\n\u001B[32m    946\u001B[39m     )\n\u001B[32m    947\u001B[39m     \u001B[38;5;28;01mtry\u001B[39;00m:\n",
      "\u001B[36mFile \u001B[39m\u001B[32m/opt/anaconda3/envs/gmail_events/lib/python3.12/site-packages/httpx/_client.py:979\u001B[39m, in \u001B[36mClient._send_handling_redirects\u001B[39m\u001B[34m(self, request, follow_redirects, history)\u001B[39m\n\u001B[32m    977\u001B[39m     hook(request)\n\u001B[32m--> \u001B[39m\u001B[32m979\u001B[39m response = \u001B[38;5;28mself\u001B[39m._send_single_request(request)\n\u001B[32m    980\u001B[39m \u001B[38;5;28;01mtry\u001B[39;00m:\n",
      "\u001B[36mFile \u001B[39m\u001B[32m/opt/anaconda3/envs/gmail_events/lib/python3.12/site-packages/httpx/_client.py:1015\u001B[39m, in \u001B[36mClient._send_single_request\u001B[39m\u001B[34m(self, request)\u001B[39m\n\u001B[32m   1014\u001B[39m \u001B[38;5;28;01mwith\u001B[39;00m request_context(request=request):\n\u001B[32m-> \u001B[39m\u001B[32m1015\u001B[39m     response = transport.handle_request(request)\n\u001B[32m   1017\u001B[39m \u001B[38;5;28;01massert\u001B[39;00m \u001B[38;5;28misinstance\u001B[39m(response.stream, SyncByteStream)\n",
      "\u001B[36mFile \u001B[39m\u001B[32m/opt/anaconda3/envs/gmail_events/lib/python3.12/site-packages/httpx/_transports/default.py:232\u001B[39m, in \u001B[36mHTTPTransport.handle_request\u001B[39m\u001B[34m(self, request)\u001B[39m\n\u001B[32m    220\u001B[39m req = httpcore.Request(\n\u001B[32m    221\u001B[39m     method=request.method,\n\u001B[32m    222\u001B[39m     url=httpcore.URL(\n\u001B[32m   (...)\u001B[39m\u001B[32m    230\u001B[39m     extensions=request.extensions,\n\u001B[32m    231\u001B[39m )\n\u001B[32m--> \u001B[39m\u001B[32m232\u001B[39m \u001B[38;5;28;01mwith\u001B[39;00m map_httpcore_exceptions():\n\u001B[32m    233\u001B[39m     resp = \u001B[38;5;28mself\u001B[39m._pool.handle_request(req)\n",
      "\u001B[36mFile \u001B[39m\u001B[32m/opt/anaconda3/envs/gmail_events/lib/python3.12/contextlib.py:158\u001B[39m, in \u001B[36m_GeneratorContextManager.__exit__\u001B[39m\u001B[34m(self, typ, value, traceback)\u001B[39m\n\u001B[32m    157\u001B[39m \u001B[38;5;28;01mtry\u001B[39;00m:\n\u001B[32m--> \u001B[39m\u001B[32m158\u001B[39m     \u001B[38;5;28mself\u001B[39m.gen.throw(value)\n\u001B[32m    159\u001B[39m \u001B[38;5;28;01mexcept\u001B[39;00m \u001B[38;5;167;01mStopIteration\u001B[39;00m \u001B[38;5;28;01mas\u001B[39;00m exc:\n\u001B[32m    160\u001B[39m     \u001B[38;5;66;03m# Suppress StopIteration *unless* it's the same exception that\u001B[39;00m\n\u001B[32m    161\u001B[39m     \u001B[38;5;66;03m# was passed to throw().  This prevents a StopIteration\u001B[39;00m\n\u001B[32m    162\u001B[39m     \u001B[38;5;66;03m# raised inside the \"with\" statement from being suppressed.\u001B[39;00m\n",
      "\u001B[36mFile \u001B[39m\u001B[32m/opt/anaconda3/envs/gmail_events/lib/python3.12/site-packages/httpx/_transports/default.py:86\u001B[39m, in \u001B[36mmap_httpcore_exceptions\u001B[39m\u001B[34m()\u001B[39m\n\u001B[32m     85\u001B[39m message = \u001B[38;5;28mstr\u001B[39m(exc)\n\u001B[32m---> \u001B[39m\u001B[32m86\u001B[39m \u001B[38;5;28;01mraise\u001B[39;00m mapped_exc(message) \u001B[38;5;28;01mfrom\u001B[39;00m\u001B[38;5;250m \u001B[39m\u001B[34;01mexc\u001B[39;00m\n",
      "\u001B[31mLocalProtocolError\u001B[39m: Illegal header value b'Bearer sk-iBMRe6osguGlEPBF6QQNEQ '",
      "\nThe above exception was the direct cause of the following exception:\n",
      "\u001B[31mAPIConnectionError\u001B[39m                        Traceback (most recent call last)",
      "\u001B[36mCell\u001B[39m\u001B[36m \u001B[39m\u001B[32mIn[21]\u001B[39m\u001B[32m, line 1\u001B[39m\n\u001B[32m----> \u001B[39m\u001B[32m1\u001B[39m client.completions.create(\n\u001B[32m      2\u001B[39m     model=\u001B[33m\"\u001B[39m\u001B[33mgpt-4o\u001B[39m\u001B[33m\"\u001B[39m,\n\u001B[32m      3\u001B[39m     prompt=\u001B[33m\"\u001B[39m\u001B[33mHello\u001B[39m\u001B[33m\"\u001B[39m,\n\u001B[32m      4\u001B[39m )\n",
      "\u001B[36mFile \u001B[39m\u001B[32m/opt/anaconda3/envs/gmail_events/lib/python3.12/site-packages/openai/_utils/_utils.py:279\u001B[39m, in \u001B[36mrequired_args.<locals>.inner.<locals>.wrapper\u001B[39m\u001B[34m(*args, **kwargs)\u001B[39m\n\u001B[32m    277\u001B[39m             msg = \u001B[33mf\u001B[39m\u001B[33m\"\u001B[39m\u001B[33mMissing required argument: \u001B[39m\u001B[38;5;132;01m{\u001B[39;00mquote(missing[\u001B[32m0\u001B[39m])\u001B[38;5;132;01m}\u001B[39;00m\u001B[33m\"\u001B[39m\n\u001B[32m    278\u001B[39m     \u001B[38;5;28;01mraise\u001B[39;00m \u001B[38;5;167;01mTypeError\u001B[39;00m(msg)\n\u001B[32m--> \u001B[39m\u001B[32m279\u001B[39m \u001B[38;5;28;01mreturn\u001B[39;00m func(*args, **kwargs)\n",
      "\u001B[36mFile \u001B[39m\u001B[32m/opt/anaconda3/envs/gmail_events/lib/python3.12/site-packages/openai/resources/completions.py:539\u001B[39m, in \u001B[36mCompletions.create\u001B[39m\u001B[34m(self, model, prompt, best_of, echo, frequency_penalty, logit_bias, logprobs, max_tokens, n, presence_penalty, seed, stop, stream, stream_options, suffix, temperature, top_p, user, extra_headers, extra_query, extra_body, timeout)\u001B[39m\n\u001B[32m    510\u001B[39m \u001B[38;5;129m@required_args\u001B[39m([\u001B[33m\"\u001B[39m\u001B[33mmodel\u001B[39m\u001B[33m\"\u001B[39m, \u001B[33m\"\u001B[39m\u001B[33mprompt\u001B[39m\u001B[33m\"\u001B[39m], [\u001B[33m\"\u001B[39m\u001B[33mmodel\u001B[39m\u001B[33m\"\u001B[39m, \u001B[33m\"\u001B[39m\u001B[33mprompt\u001B[39m\u001B[33m\"\u001B[39m, \u001B[33m\"\u001B[39m\u001B[33mstream\u001B[39m\u001B[33m\"\u001B[39m])\n\u001B[32m    511\u001B[39m \u001B[38;5;28;01mdef\u001B[39;00m\u001B[38;5;250m \u001B[39m\u001B[34mcreate\u001B[39m(\n\u001B[32m    512\u001B[39m     \u001B[38;5;28mself\u001B[39m,\n\u001B[32m   (...)\u001B[39m\u001B[32m    537\u001B[39m     timeout: \u001B[38;5;28mfloat\u001B[39m | httpx.Timeout | \u001B[38;5;28;01mNone\u001B[39;00m | NotGiven = NOT_GIVEN,\n\u001B[32m    538\u001B[39m ) -> Completion | Stream[Completion]:\n\u001B[32m--> \u001B[39m\u001B[32m539\u001B[39m     \u001B[38;5;28;01mreturn\u001B[39;00m \u001B[38;5;28mself\u001B[39m._post(\n\u001B[32m    540\u001B[39m         \u001B[33m\"\u001B[39m\u001B[33m/completions\u001B[39m\u001B[33m\"\u001B[39m,\n\u001B[32m    541\u001B[39m         body=maybe_transform(\n\u001B[32m    542\u001B[39m             {\n\u001B[32m    543\u001B[39m                 \u001B[33m\"\u001B[39m\u001B[33mmodel\u001B[39m\u001B[33m\"\u001B[39m: model,\n\u001B[32m    544\u001B[39m                 \u001B[33m\"\u001B[39m\u001B[33mprompt\u001B[39m\u001B[33m\"\u001B[39m: prompt,\n\u001B[32m    545\u001B[39m                 \u001B[33m\"\u001B[39m\u001B[33mbest_of\u001B[39m\u001B[33m\"\u001B[39m: best_of,\n\u001B[32m    546\u001B[39m                 \u001B[33m\"\u001B[39m\u001B[33mecho\u001B[39m\u001B[33m\"\u001B[39m: echo,\n\u001B[32m    547\u001B[39m                 \u001B[33m\"\u001B[39m\u001B[33mfrequency_penalty\u001B[39m\u001B[33m\"\u001B[39m: frequency_penalty,\n\u001B[32m    548\u001B[39m                 \u001B[33m\"\u001B[39m\u001B[33mlogit_bias\u001B[39m\u001B[33m\"\u001B[39m: logit_bias,\n\u001B[32m    549\u001B[39m                 \u001B[33m\"\u001B[39m\u001B[33mlogprobs\u001B[39m\u001B[33m\"\u001B[39m: logprobs,\n\u001B[32m    550\u001B[39m                 \u001B[33m\"\u001B[39m\u001B[33mmax_tokens\u001B[39m\u001B[33m\"\u001B[39m: max_tokens,\n\u001B[32m    551\u001B[39m                 \u001B[33m\"\u001B[39m\u001B[33mn\u001B[39m\u001B[33m\"\u001B[39m: n,\n\u001B[32m    552\u001B[39m                 \u001B[33m\"\u001B[39m\u001B[33mpresence_penalty\u001B[39m\u001B[33m\"\u001B[39m: presence_penalty,\n\u001B[32m    553\u001B[39m                 \u001B[33m\"\u001B[39m\u001B[33mseed\u001B[39m\u001B[33m\"\u001B[39m: seed,\n\u001B[32m    554\u001B[39m                 \u001B[33m\"\u001B[39m\u001B[33mstop\u001B[39m\u001B[33m\"\u001B[39m: stop,\n\u001B[32m    555\u001B[39m                 \u001B[33m\"\u001B[39m\u001B[33mstream\u001B[39m\u001B[33m\"\u001B[39m: stream,\n\u001B[32m    556\u001B[39m                 \u001B[33m\"\u001B[39m\u001B[33mstream_options\u001B[39m\u001B[33m\"\u001B[39m: stream_options,\n\u001B[32m    557\u001B[39m                 \u001B[33m\"\u001B[39m\u001B[33msuffix\u001B[39m\u001B[33m\"\u001B[39m: suffix,\n\u001B[32m    558\u001B[39m                 \u001B[33m\"\u001B[39m\u001B[33mtemperature\u001B[39m\u001B[33m\"\u001B[39m: temperature,\n\u001B[32m    559\u001B[39m                 \u001B[33m\"\u001B[39m\u001B[33mtop_p\u001B[39m\u001B[33m\"\u001B[39m: top_p,\n\u001B[32m    560\u001B[39m                 \u001B[33m\"\u001B[39m\u001B[33muser\u001B[39m\u001B[33m\"\u001B[39m: user,\n\u001B[32m    561\u001B[39m             },\n\u001B[32m    562\u001B[39m             completion_create_params.CompletionCreateParams,\n\u001B[32m    563\u001B[39m         ),\n\u001B[32m    564\u001B[39m         options=make_request_options(\n\u001B[32m    565\u001B[39m             extra_headers=extra_headers, extra_query=extra_query, extra_body=extra_body, timeout=timeout\n\u001B[32m    566\u001B[39m         ),\n\u001B[32m    567\u001B[39m         cast_to=Completion,\n\u001B[32m    568\u001B[39m         stream=stream \u001B[38;5;129;01mor\u001B[39;00m \u001B[38;5;28;01mFalse\u001B[39;00m,\n\u001B[32m    569\u001B[39m         stream_cls=Stream[Completion],\n\u001B[32m    570\u001B[39m     )\n",
      "\u001B[36mFile \u001B[39m\u001B[32m/opt/anaconda3/envs/gmail_events/lib/python3.12/site-packages/openai/_base_client.py:1283\u001B[39m, in \u001B[36mSyncAPIClient.post\u001B[39m\u001B[34m(self, path, cast_to, body, options, files, stream, stream_cls)\u001B[39m\n\u001B[32m   1269\u001B[39m \u001B[38;5;28;01mdef\u001B[39;00m\u001B[38;5;250m \u001B[39m\u001B[34mpost\u001B[39m(\n\u001B[32m   1270\u001B[39m     \u001B[38;5;28mself\u001B[39m,\n\u001B[32m   1271\u001B[39m     path: \u001B[38;5;28mstr\u001B[39m,\n\u001B[32m   (...)\u001B[39m\u001B[32m   1278\u001B[39m     stream_cls: \u001B[38;5;28mtype\u001B[39m[_StreamT] | \u001B[38;5;28;01mNone\u001B[39;00m = \u001B[38;5;28;01mNone\u001B[39;00m,\n\u001B[32m   1279\u001B[39m ) -> ResponseT | _StreamT:\n\u001B[32m   1280\u001B[39m     opts = FinalRequestOptions.construct(\n\u001B[32m   1281\u001B[39m         method=\u001B[33m\"\u001B[39m\u001B[33mpost\u001B[39m\u001B[33m\"\u001B[39m, url=path, json_data=body, files=to_httpx_files(files), **options\n\u001B[32m   1282\u001B[39m     )\n\u001B[32m-> \u001B[39m\u001B[32m1283\u001B[39m     \u001B[38;5;28;01mreturn\u001B[39;00m cast(ResponseT, \u001B[38;5;28mself\u001B[39m.request(cast_to, opts, stream=stream, stream_cls=stream_cls))\n",
      "\u001B[36mFile \u001B[39m\u001B[32m/opt/anaconda3/envs/gmail_events/lib/python3.12/site-packages/openai/_base_client.py:960\u001B[39m, in \u001B[36mSyncAPIClient.request\u001B[39m\u001B[34m(self, cast_to, options, remaining_retries, stream, stream_cls)\u001B[39m\n\u001B[32m    957\u001B[39m \u001B[38;5;28;01melse\u001B[39;00m:\n\u001B[32m    958\u001B[39m     retries_taken = \u001B[32m0\u001B[39m\n\u001B[32m--> \u001B[39m\u001B[32m960\u001B[39m \u001B[38;5;28;01mreturn\u001B[39;00m \u001B[38;5;28mself\u001B[39m._request(\n\u001B[32m    961\u001B[39m     cast_to=cast_to,\n\u001B[32m    962\u001B[39m     options=options,\n\u001B[32m    963\u001B[39m     stream=stream,\n\u001B[32m    964\u001B[39m     stream_cls=stream_cls,\n\u001B[32m    965\u001B[39m     retries_taken=retries_taken,\n\u001B[32m    966\u001B[39m )\n",
      "\u001B[36mFile \u001B[39m\u001B[32m/opt/anaconda3/envs/gmail_events/lib/python3.12/site-packages/openai/_base_client.py:1020\u001B[39m, in \u001B[36mSyncAPIClient._request\u001B[39m\u001B[34m(self, cast_to, options, retries_taken, stream, stream_cls)\u001B[39m\n\u001B[32m   1017\u001B[39m log.debug(\u001B[33m\"\u001B[39m\u001B[33mEncountered Exception\u001B[39m\u001B[33m\"\u001B[39m, exc_info=\u001B[38;5;28;01mTrue\u001B[39;00m)\n\u001B[32m   1019\u001B[39m \u001B[38;5;28;01mif\u001B[39;00m remaining_retries > \u001B[32m0\u001B[39m:\n\u001B[32m-> \u001B[39m\u001B[32m1020\u001B[39m     \u001B[38;5;28;01mreturn\u001B[39;00m \u001B[38;5;28mself\u001B[39m._retry_request(\n\u001B[32m   1021\u001B[39m         input_options,\n\u001B[32m   1022\u001B[39m         cast_to,\n\u001B[32m   1023\u001B[39m         retries_taken=retries_taken,\n\u001B[32m   1024\u001B[39m         stream=stream,\n\u001B[32m   1025\u001B[39m         stream_cls=stream_cls,\n\u001B[32m   1026\u001B[39m         response_headers=\u001B[38;5;28;01mNone\u001B[39;00m,\n\u001B[32m   1027\u001B[39m     )\n\u001B[32m   1029\u001B[39m log.debug(\u001B[33m\"\u001B[39m\u001B[33mRaising connection error\u001B[39m\u001B[33m\"\u001B[39m)\n\u001B[32m   1030\u001B[39m \u001B[38;5;28;01mraise\u001B[39;00m APIConnectionError(request=request) \u001B[38;5;28;01mfrom\u001B[39;00m\u001B[38;5;250m \u001B[39m\u001B[34;01merr\u001B[39;00m\n",
      "\u001B[36mFile \u001B[39m\u001B[32m/opt/anaconda3/envs/gmail_events/lib/python3.12/site-packages/openai/_base_client.py:1098\u001B[39m, in \u001B[36mSyncAPIClient._retry_request\u001B[39m\u001B[34m(self, options, cast_to, retries_taken, response_headers, stream, stream_cls)\u001B[39m\n\u001B[32m   1094\u001B[39m \u001B[38;5;66;03m# In a synchronous context we are blocking the entire thread. Up to the library user to run the client in a\u001B[39;00m\n\u001B[32m   1095\u001B[39m \u001B[38;5;66;03m# different thread if necessary.\u001B[39;00m\n\u001B[32m   1096\u001B[39m time.sleep(timeout)\n\u001B[32m-> \u001B[39m\u001B[32m1098\u001B[39m \u001B[38;5;28;01mreturn\u001B[39;00m \u001B[38;5;28mself\u001B[39m._request(\n\u001B[32m   1099\u001B[39m     options=options,\n\u001B[32m   1100\u001B[39m     cast_to=cast_to,\n\u001B[32m   1101\u001B[39m     retries_taken=retries_taken + \u001B[32m1\u001B[39m,\n\u001B[32m   1102\u001B[39m     stream=stream,\n\u001B[32m   1103\u001B[39m     stream_cls=stream_cls,\n\u001B[32m   1104\u001B[39m )\n",
      "\u001B[36mFile \u001B[39m\u001B[32m/opt/anaconda3/envs/gmail_events/lib/python3.12/site-packages/openai/_base_client.py:1020\u001B[39m, in \u001B[36mSyncAPIClient._request\u001B[39m\u001B[34m(self, cast_to, options, retries_taken, stream, stream_cls)\u001B[39m\n\u001B[32m   1017\u001B[39m log.debug(\u001B[33m\"\u001B[39m\u001B[33mEncountered Exception\u001B[39m\u001B[33m\"\u001B[39m, exc_info=\u001B[38;5;28;01mTrue\u001B[39;00m)\n\u001B[32m   1019\u001B[39m \u001B[38;5;28;01mif\u001B[39;00m remaining_retries > \u001B[32m0\u001B[39m:\n\u001B[32m-> \u001B[39m\u001B[32m1020\u001B[39m     \u001B[38;5;28;01mreturn\u001B[39;00m \u001B[38;5;28mself\u001B[39m._retry_request(\n\u001B[32m   1021\u001B[39m         input_options,\n\u001B[32m   1022\u001B[39m         cast_to,\n\u001B[32m   1023\u001B[39m         retries_taken=retries_taken,\n\u001B[32m   1024\u001B[39m         stream=stream,\n\u001B[32m   1025\u001B[39m         stream_cls=stream_cls,\n\u001B[32m   1026\u001B[39m         response_headers=\u001B[38;5;28;01mNone\u001B[39;00m,\n\u001B[32m   1027\u001B[39m     )\n\u001B[32m   1029\u001B[39m log.debug(\u001B[33m\"\u001B[39m\u001B[33mRaising connection error\u001B[39m\u001B[33m\"\u001B[39m)\n\u001B[32m   1030\u001B[39m \u001B[38;5;28;01mraise\u001B[39;00m APIConnectionError(request=request) \u001B[38;5;28;01mfrom\u001B[39;00m\u001B[38;5;250m \u001B[39m\u001B[34;01merr\u001B[39;00m\n",
      "\u001B[36mFile \u001B[39m\u001B[32m/opt/anaconda3/envs/gmail_events/lib/python3.12/site-packages/openai/_base_client.py:1098\u001B[39m, in \u001B[36mSyncAPIClient._retry_request\u001B[39m\u001B[34m(self, options, cast_to, retries_taken, response_headers, stream, stream_cls)\u001B[39m\n\u001B[32m   1094\u001B[39m \u001B[38;5;66;03m# In a synchronous context we are blocking the entire thread. Up to the library user to run the client in a\u001B[39;00m\n\u001B[32m   1095\u001B[39m \u001B[38;5;66;03m# different thread if necessary.\u001B[39;00m\n\u001B[32m   1096\u001B[39m time.sleep(timeout)\n\u001B[32m-> \u001B[39m\u001B[32m1098\u001B[39m \u001B[38;5;28;01mreturn\u001B[39;00m \u001B[38;5;28mself\u001B[39m._request(\n\u001B[32m   1099\u001B[39m     options=options,\n\u001B[32m   1100\u001B[39m     cast_to=cast_to,\n\u001B[32m   1101\u001B[39m     retries_taken=retries_taken + \u001B[32m1\u001B[39m,\n\u001B[32m   1102\u001B[39m     stream=stream,\n\u001B[32m   1103\u001B[39m     stream_cls=stream_cls,\n\u001B[32m   1104\u001B[39m )\n",
      "\u001B[36mFile \u001B[39m\u001B[32m/opt/anaconda3/envs/gmail_events/lib/python3.12/site-packages/openai/_base_client.py:1030\u001B[39m, in \u001B[36mSyncAPIClient._request\u001B[39m\u001B[34m(self, cast_to, options, retries_taken, stream, stream_cls)\u001B[39m\n\u001B[32m   1020\u001B[39m         \u001B[38;5;28;01mreturn\u001B[39;00m \u001B[38;5;28mself\u001B[39m._retry_request(\n\u001B[32m   1021\u001B[39m             input_options,\n\u001B[32m   1022\u001B[39m             cast_to,\n\u001B[32m   (...)\u001B[39m\u001B[32m   1026\u001B[39m             response_headers=\u001B[38;5;28;01mNone\u001B[39;00m,\n\u001B[32m   1027\u001B[39m         )\n\u001B[32m   1029\u001B[39m     log.debug(\u001B[33m\"\u001B[39m\u001B[33mRaising connection error\u001B[39m\u001B[33m\"\u001B[39m)\n\u001B[32m-> \u001B[39m\u001B[32m1030\u001B[39m     \u001B[38;5;28;01mraise\u001B[39;00m APIConnectionError(request=request) \u001B[38;5;28;01mfrom\u001B[39;00m\u001B[38;5;250m \u001B[39m\u001B[34;01merr\u001B[39;00m\n\u001B[32m   1032\u001B[39m log.debug(\n\u001B[32m   1033\u001B[39m     \u001B[33m'\u001B[39m\u001B[33mHTTP Response: \u001B[39m\u001B[38;5;132;01m%s\u001B[39;00m\u001B[33m \u001B[39m\u001B[38;5;132;01m%s\u001B[39;00m\u001B[33m \u001B[39m\u001B[33m\"\u001B[39m\u001B[38;5;132;01m%i\u001B[39;00m\u001B[33m \u001B[39m\u001B[38;5;132;01m%s\u001B[39;00m\u001B[33m\"\u001B[39m\u001B[33m \u001B[39m\u001B[38;5;132;01m%s\u001B[39;00m\u001B[33m'\u001B[39m,\n\u001B[32m   1034\u001B[39m     request.method,\n\u001B[32m   (...)\u001B[39m\u001B[32m   1038\u001B[39m     response.headers,\n\u001B[32m   1039\u001B[39m )\n\u001B[32m   1040\u001B[39m log.debug(\u001B[33m\"\u001B[39m\u001B[33mrequest_id: \u001B[39m\u001B[38;5;132;01m%s\u001B[39;00m\u001B[33m\"\u001B[39m, response.headers.get(\u001B[33m\"\u001B[39m\u001B[33mx-request-id\u001B[39m\u001B[33m\"\u001B[39m))\n",
      "\u001B[31mAPIConnectionError\u001B[39m: Connection error."
     ]
    }
   ],
   "execution_count": 21
  },
  {
   "metadata": {},
   "cell_type": "code",
   "outputs": [],
   "execution_count": null,
   "source": [
    "def main():\n",
    "    creds = None\n",
    "    if os.path.exists('secrets/token_yz.json'):\n",
    "        print(\"Token already exists. You can move to Gmail reading.\")\n",
    "        return\n",
    "\n",
    "    # Authenticate\n",
    "\n",
    "    # Save the token for future use\n",
    "\n"
   ],
   "id": "44dfe3af9d729fbf"
  },
  {
   "metadata": {
    "ExecuteTime": {
     "end_time": "2025-04-29T13:58:19.161839Z",
     "start_time": "2025-04-29T13:58:19.159442Z"
    }
   },
   "cell_type": "code",
   "source": [
    "import re\n",
    "\n",
    "text = 'episode 232'\n",
    "match = re.search(r'(episode|tome) (\\d+)', text)\n",
    "match.groups()"
   ],
   "id": "f05da9b69d125a8c",
   "outputs": [
    {
     "data": {
      "text/plain": [
       "('episode', '232')"
      ]
     },
     "execution_count": 7,
     "metadata": {},
     "output_type": "execute_result"
    }
   ],
   "execution_count": 7
  },
  {
   "metadata": {
    "ExecuteTime": {
     "end_time": "2025-04-29T14:08:10.075344Z",
     "start_time": "2025-04-29T14:08:10.072589Z"
    }
   },
   "cell_type": "code",
   "source": [
    "text = 'read: <verb> this is <adj> oh'\n",
    "re.split(r'<(\\w+)>',text)"
   ],
   "id": "4e6b6e7609b0d303",
   "outputs": [
    {
     "data": {
      "text/plain": [
       "['read: ', 'verb', ' this is ', 'adj', ' oh']"
      ]
     },
     "execution_count": 10,
     "metadata": {},
     "output_type": "execute_result"
    }
   ],
   "execution_count": 10
  },
  {
   "metadata": {
    "ExecuteTime": {
     "end_time": "2025-04-29T14:21:31.375672Z",
     "start_time": "2025-04-29T14:21:31.373807Z"
    }
   },
   "cell_type": "code",
   "source": "episode_regex = re.compile(r'(?:episode|part|chapter)\\s+(\\d+|[IVXivx]+)', re.IGNORECASE)",
   "id": "a964fea86fe3a1a7",
   "outputs": [],
   "execution_count": 16
  },
  {
   "metadata": {
    "ExecuteTime": {
     "end_time": "2025-04-29T14:21:32.729638Z",
     "start_time": "2025-04-29T14:21:32.726535Z"
    }
   },
   "cell_type": "code",
   "source": [
    "text = \"I like Episode  IV more than part 32\"\n",
    "episode_regex.findall(text)"
   ],
   "id": "d502e4379598d330",
   "outputs": [
    {
     "data": {
      "text/plain": [
       "['IV', '32']"
      ]
     },
     "execution_count": 17,
     "metadata": {},
     "output_type": "execute_result"
    }
   ],
   "execution_count": 17
  },
  {
   "metadata": {},
   "cell_type": "code",
   "outputs": [],
   "execution_count": null,
   "source": "",
   "id": "8a3575c19552e8f6"
  }
 ],
 "metadata": {
  "kernelspec": {
   "display_name": "Python 3",
   "language": "python",
   "name": "python3"
  },
  "language_info": {
   "codemirror_mode": {
    "name": "ipython",
    "version": 2
   },
   "file_extension": ".py",
   "mimetype": "text/x-python",
   "name": "python",
   "nbconvert_exporter": "python",
   "pygments_lexer": "ipython2",
   "version": "2.7.6"
  }
 },
 "nbformat": 4,
 "nbformat_minor": 5
}
